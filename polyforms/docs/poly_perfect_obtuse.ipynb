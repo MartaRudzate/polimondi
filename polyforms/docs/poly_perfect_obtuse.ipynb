{
 "cells": [
  {
   "cell_type": "code",
   "execution_count": null,
   "id": "366353eb",
   "metadata": {},
   "outputs": [],
   "source": [
    "from polyforms.polyiamond import Polyiamond\n",
    "from polyforms.draw_scene import *\n",
    "\n",
    "\n",
    "poly24 = ['ABCBCDEDEDEFEAFAFABFABAB', 'ABABAFEDEDCDEFEDCBCDCDCB',\n",
    "'ABABCDCDEDEFEDEFAFAFABAB',\n",
    "'ABABCDCDEFAFEDCDEFEFEFEF',\n",
    "'ABABCDCDEFEDEDEFAFAFABCB',\n",
    "'ABABCDEDCDEDEFAFEFAFABAB',\n",
    "'ABABCDEDCDEFEDEFAFABAFAB',\n",
    "'ABABCDEDEDCDEFAFAFEFABCB',\n",
    "'ABABCDEDEDCDEFAFEFABAFAB',\n",
    "'ABAFAFEDCDCDEDEDCBABCDCB',\n",
    "'ABAFAFEDEDCBCDEDCDCDCBAB',\n",
    "'ABAFEDEDEDCBCDCBAFABAFAF',\n",
    "'ABAFEDEDEDCDCBABCBAFAFAF',\n",
    "'ABAFEDEDEDCDCBAFABCBABCB',\n",
    "'ABAFEFEDCDEDCDCBABABCBCB',\n",
    "'ABAFEFEDCDEDCDCBABCBABAB',\n",
    "'ABAFEFEDEDCDCBCDCBABABAB',\n",
    "'ABCBAFAFEDEDEDEDCDCDCBAB',\n",
    "'ABCBCDCDEFAFEFAFEFEDEDEF',\n",
    "'ABCBCDCDEFEFEFEFABAFEFAB',\n",
    "'ABCBCDEDEFABAFEFEDEDEFAB',\n",
    "'ABCDEDEDEFABABCBAFAFEDEF']\n",
    "\n",
    "polygons = [Polyiamond(s) for s in poly24]\n",
    "for idx,pp in enumerate(polygons): \n",
    "    print('{}: {}'.format(idx, pp.get_area()))\n"
   ]
  },
  {
   "cell_type": "code",
   "execution_count": null,
   "id": "36d55288",
   "metadata": {},
   "outputs": [],
   "source": [
    "polygons = [Polyiamond(poly24[0]), Polyiamond(poly24[2]), Polyiamond(poly24[16]), Polyiamond(poly24[19])]\n",
    "scene = DrawScene(Align.BASELINE)\n",
    "\n",
    "offsets = [(0,0), (-20,0), (0,60), (60,0), (0,0)]\n",
    "\n",
    "for idx,poly in enumerate(polygons):\n",
    "    scene.add_polyiamond(f'p{idx}', poly, offsets[idx])\n",
    "    \n",
    "scene.pack()\n",
    "scene.set_size_in(16,6)"
   ]
  },
  {
   "cell_type": "code",
   "execution_count": null,
   "id": "88dcf6a8",
   "metadata": {},
   "outputs": [],
   "source": [
    "polygons = [Polyiamond(poly24[1]), Polyiamond(poly24[9]), Polyiamond(poly24[20]), Polyiamond(poly24[21])]\n",
    "scene = DrawScene(Align.BASELINE)\n",
    "\n",
    "offsets = [(0,0), (0,20), (60,-20), (70,0), (0,0)]\n",
    "\n",
    "for idx,poly in enumerate(polygons):\n",
    "    scene.add_polyiamond(f'p{idx}', poly, offsets[idx])\n",
    "    \n",
    "scene.pack()\n",
    "scene.set_size_in(16,6)"
   ]
  },
  {
   "cell_type": "code",
   "execution_count": null,
   "id": "0b291294",
   "metadata": {},
   "outputs": [],
   "source": []
  }
 ],
 "metadata": {
  "kernelspec": {
   "display_name": "Python 3 (ipykernel)",
   "language": "python",
   "name": "python3"
  },
  "language_info": {
   "codemirror_mode": {
    "name": "ipython",
    "version": 3
   },
   "file_extension": ".py",
   "mimetype": "text/x-python",
   "name": "python",
   "nbconvert_exporter": "python",
   "pygments_lexer": "ipython3",
   "version": "3.9.12"
  }
 },
 "nbformat": 4,
 "nbformat_minor": 5
}

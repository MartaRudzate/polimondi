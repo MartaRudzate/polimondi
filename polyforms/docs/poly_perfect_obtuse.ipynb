{
 "cells": [
  {
   "cell_type": "code",
   "execution_count": null,
   "id": "366353eb",
   "metadata": {},
   "outputs": [],
   "source": [
    "from polyforms.polyiamond import Polyiamond\n",
    "from polyforms.draw_scene import *\n",
    "\n",
    "\n",
    "poly24 = ['ABCDEDEFAFAB',\n",
    "          'ABAFEDEDEDCBCBCBAB',\n",
    "          'ABABAFEDEDCDEFEDCBCDCDCB',\n",
    "          'ABABCDCDEDEFEDEFAFAFABAB',\n",
    "          'ABABCDCDEFAFEDCDEFEFEFEF',\n",
    "          'ABABCDCDEFEDEDEFAFAFABCB',\n",
    "          'ABABCDEDCDEDEFAFEFAFABAB',\n",
    "          'ABABCDEDCDEFEDEFAFABAFAB',\n",
    "          'ABABCDEDEDCDEFAFAFEFABCB',\n",
    "          'ABABCDEDEDCDEFAFEFABAFAB',\n",
    "          'ABAFAFEDCDCDEDEDCBABCDCB',\n",
    "          'ABAFAFEDEDCBCDEDCDCDCBAB',\n",
    "          'ABAFEDEDEDCBCDCBAFABAFAF',\n",
    "          'ABAFEDEDEDCDCBABCBAFAFAF',\n",
    "          'ABAFEDEDEDCDCBAFABCBABCB',\n",
    "          'ABAFEFEDCDEDCDCBABABCBCB',\n",
    "          'ABAFEFEDCDEDCDCBABCBABAB',\n",
    "          'ABAFEFEDEDCDCBCDCBABABAB',\n",
    "          'ABCBAFAFEDEDEDEDCDCDCBAB',\n",
    "          'ABCBCDCDEFAFEFAFEFEDEDEF',\n",
    "          'ABCBCDCDEFEFEFEFABAFEFAB',\n",
    "          'ABCBCDEDEFABAFEFEDEDEFAB',\n",
    "          'ABCDEDEDEFABABCBAFAFEDEF']\n",
    "\n",
    "polygons = [Polyiamond(s) for s in poly24]\n",
    "for idx,pp in enumerate(polygons): \n",
    "    print('{}: {}'.format(idx, pp.get_area()), end=\", \")\n"
   ]
  },
  {
   "cell_type": "code",
   "execution_count": null,
   "id": "0b291294",
   "metadata": {},
   "outputs": [],
   "source": [
    "from polyforms.point_tg import *\n",
    "from polyforms.inductive_splits import *\n",
    "for idx,pstring in enumerate(poly24):\n",
    "    llist = list(pstring)\n",
    "    evenletters = []\n",
    "    oddletters = []\n",
    "    for i in range(0, len(llist)): \n",
    "        if i % 3 == 0:\n",
    "            evenletters.append(llist[i])\n",
    "        elif i % 3 == 1:\n",
    "            oddletters.append(llist[i])\n",
    "    evenstr = \"\".join(evenletters)\n",
    "    oddstr = \"\".join(oddletters)\n",
    "    p_even = InductiveSplits.p(evenstr)\n",
    "    g_even = InductiveSplits.g(evenstr)\n",
    "    p_odd = InductiveSplits.p(oddstr)\n",
    "    g_odd = InductiveSplits.g(oddstr)\n",
    "    print(f'({evenstr},{p_even},{g_even}), ({oddstr},{p_odd},{g_odd})')\n",
    "    \n",
    "    "
   ]
  },
  {
   "cell_type": "code",
   "execution_count": null,
   "id": "7f815cef",
   "metadata": {},
   "outputs": [],
   "source": [
    "for idx,pstring in enumerate(poly24):\n",
    "    llist = list(pstring)\n",
    "    "
   ]
  }
 ],
 "metadata": {
  "kernelspec": {
   "display_name": "Python 3 (ipykernel)",
   "language": "python",
   "name": "python3"
  },
  "language_info": {
   "codemirror_mode": {
    "name": "ipython",
    "version": 3
   },
   "file_extension": ".py",
   "mimetype": "text/x-python",
   "name": "python",
   "nbconvert_exporter": "python",
   "pygments_lexer": "ipython3",
   "version": "3.9.12"
  }
 },
 "nbformat": 4,
 "nbformat_minor": 5
}

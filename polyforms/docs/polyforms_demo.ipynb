{
 "cells": [
  {
   "cell_type": "markdown",
   "id": "9edbd9e9",
   "metadata": {},
   "source": [
    "# Polimondu ģeometrijas piemēri"
   ]
  },
  {
   "cell_type": "markdown",
   "id": "fea0f2d3",
   "metadata": {},
   "source": [
    "**1. piemērs:** Izvada virsotnes un visus veselos punktus uz polimonda perimetra."
   ]
  },
  {
   "cell_type": "code",
   "execution_count": null,
   "id": "1da85b2d",
   "metadata": {},
   "outputs": [],
   "source": [
    "from polyforms.polyiamond import Polyiamond\n",
    "\n",
    "p1 = Polyiamond([(5, 'A'), (4, 'C'), (3, 'E'), (2, 'D'), (1, 'F')])\n",
    "print('Virsotnes: {}'.format(p1.get_vertices()))\n",
    "print('Perimetra punkti: {}'.format(p1.list_perimeter()))"
   ]
  },
  {
   "cell_type": "markdown",
   "id": "aa0104c0",
   "metadata": {},
   "source": [
    "**2. piemērs:** Atrod polimonda laukumu, minimālo iekļaujošo sešstūri (*hexagonal bounding box*), \n",
    "leņķu skaitu pa lielumiem: $60^{\\circ}$, $120^{\\circ}$, $240^{\\circ}$, $300^{\\circ}$:"
   ]
  },
  {
   "cell_type": "code",
   "execution_count": null,
   "id": "5753e300",
   "metadata": {},
   "outputs": [],
   "source": [
    "print('Laukums: {}'.format(p1.get_signed_area()))\n",
    "print('Iekļaujošā sešstūra gabarīti: {}'.format(p1.get_bounding_sizes()))\n",
    "print('Iekšējo leņķu skaits (n60,n120,n240,n300): {}'.format(p1.internal_angles()))"
   ]
  },
  {
   "cell_type": "markdown",
   "id": "e61fd1ba",
   "metadata": {},
   "source": [
    "**3. piemērs:** Uzzīmējam daudzstūri un veselos punktus uz tā perimetra."
   ]
  },
  {
   "cell_type": "code",
   "execution_count": null,
   "id": "51dd3229",
   "metadata": {},
   "outputs": [],
   "source": [
    "from polyforms.draw_scene import *\n",
    "from polyforms.perfect_seq import *\n",
    "from polyforms.polyiamond import Polyiamond\n",
    "import numpy as np\n",
    "\n",
    "p1 = Polyiamond('ACEDF')\n",
    "scene = DrawScene(Align.BASELINE)\n",
    "scene.add_polyiamond('p1', p1)\n",
    "\n",
    "scene.pack()\n",
    "scene.show_grid()\n",
    "(off_x, off_y) = scene.get_offset('p1')\n",
    "\n",
    "perimeter = p1.list_perimeter()\n",
    "perimeter2d = [pp.get_xy() for pp in perimeter]\n",
    "for (x,y) in perimeter2d:\n",
    "    scene.ax.plot(x+off_x, y, marker='o', color='blue')\n",
    "    \n",
    "scene.set_size_in(6,3)"
   ]
  },
  {
   "cell_type": "markdown",
   "id": "d737b386",
   "metadata": {},
   "source": [
    "**4.piemērs:** Uzzīmē 3 polimondus, parāda to izvietojumu horizontālā joslā. Tikai `Align.BASELINE` ir atbalstīts - figūriņas zīmē tā, lai to sākumpunkti, kuros sākas perfektā polimonda garākā mala, sakristu. Citi izlīdzināšanas paņēmieni būtu `Align.TOP`, `Align.BOTTOM`, `Align.CENTER`."
   ]
  },
  {
   "cell_type": "code",
   "execution_count": null,
   "id": "359e7c31",
   "metadata": {},
   "outputs": [],
   "source": [
    "from polyforms.draw_scene import *\n",
    "from polyforms.perfect_seq import *\n",
    "from polyforms.polyiamond import Polyiamond\n",
    "import numpy as np\n",
    "\n",
    "p_series = PerfectSeq()\n",
    "seq = p_series.get_series('SEQ_4_3_A')\n",
    "scene = DrawScene(Align.BASELINE)\n",
    "monds = [Polyiamond(s) for s in seq]\n",
    "\n",
    "scene.add_polyiamond('p0', monds[0], box=True)\n",
    "print('bounding box is {}'.format(monds[0].get_rect_box()))\n",
    "scene.add_polyiamond('p1', monds[1])\n",
    "scene.add_polyiamond('p2', monds[2])\n",
    "\n",
    "scene.pack()\n",
    "scene.show_grid()\n",
    "scene.set_size_in(10,10)"
   ]
  },
  {
   "cell_type": "code",
   "execution_count": null,
   "id": "63dad0bb",
   "metadata": {},
   "outputs": [],
   "source": []
  }
 ],
 "metadata": {
  "kernelspec": {
   "display_name": "Python 3 (ipykernel)",
   "language": "python",
   "name": "python3"
  },
  "language_info": {
   "codemirror_mode": {
    "name": "ipython",
    "version": 3
   },
   "file_extension": ".py",
   "mimetype": "text/x-python",
   "name": "python",
   "nbconvert_exporter": "python",
   "pygments_lexer": "ipython3",
   "version": "3.9.12"
  }
 },
 "nbformat": 4,
 "nbformat_minor": 5
}

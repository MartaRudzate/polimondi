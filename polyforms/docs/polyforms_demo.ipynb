{
 "cells": [
  {
   "cell_type": "markdown",
   "id": "9edbd9e9",
   "metadata": {},
   "source": [
    "# Polimondu ģeometrijas piemēri"
   ]
  },
  {
   "cell_type": "markdown",
   "id": "fea0f2d3",
   "metadata": {},
   "source": [
    "**1. piemērs:** Izvada virsotnes dažādos formātos."
   ]
  },
  {
   "cell_type": "code",
   "execution_count": null,
   "id": "1da85b2d",
   "metadata": {},
   "outputs": [],
   "source": [
    "from polyforms.polyiamond import Polyiamond\n",
    "\n",
    "p1 = Polyiamond([(5, 'A'), (4, 'C'), (3, 'E'), (2, 'D'), (1, 'F')])\n",
    "print('Virsotnes: {}'.format(p1.get_vertices()))\n",
    "print('Dekarta1: {}'.format(p1.get_mod_descartes()))\n",
    "print('Dekarta2: {}'.format(p1.get_descartes()))"
   ]
  },
  {
   "cell_type": "markdown",
   "id": "aa0104c0",
   "metadata": {},
   "source": [
    "**2. piemērs:** Atrod polimonda laukumu, minimālo iekļaujošo sešstūri (*hexagonal bounding box*), \n",
    "leņķu skaitu pa lielumiem: $60^{\\circ}$, $120^{\\circ}$, $240^{\\circ}$, $300^{\\circ}$:"
   ]
  },
  {
   "cell_type": "code",
   "execution_count": null,
   "id": "5753e300",
   "metadata": {},
   "outputs": [],
   "source": [
    "print('Laukums: {}'.format(p1.get_signed_area()))\n",
    "print('Iekļaujošā sešstūra gabarīti: {}'.format(p1.get_bounding_sizes()))\n",
    "print('Iekšējo leņķu skaits (n60,n120,n240,n300): {}'.format(p1.internal_angles()))\n",
    "print('Punkti uz perimetra: {}'.format(p1.list_perimeter()))\n",
    "print('Punkti daudzstūrī: {}'.format(p1.list_inside()))\n",
    "print('Līniju garums 3 virzienos: {}'.format(p1.get_direction_counts()))\n",
    "d_triple = p1.diameter()\n",
    "d_square = int(round(d_triple[0]**2))\n",
    "print('Diametrs: {} = sqrt({})'.format(d_triple[0], d_square))\n",
    "print('Minimālais platums - pagaidām to rēķina nepareizi: {}'.format(p1.min_width()[0]))\n",
    "print('Melno, balto trijstūrīšu skaits: {}'.format(p1.black_white()))"
   ]
  },
  {
   "cell_type": "markdown",
   "id": "e61fd1ba",
   "metadata": {},
   "source": [
    "**3. piemērs:** Uzzīmē daudzstūri un veselos punktus uz tā perimetra."
   ]
  },
  {
   "cell_type": "code",
   "execution_count": null,
   "id": "51dd3229",
   "metadata": {},
   "outputs": [],
   "source": [
    "from polyforms.draw_scene import *\n",
    "from polyforms.polyiamond import Polyiamond\n",
    "\n",
    "p1 = Polyiamond('ACEDF')\n",
    "scene = DrawScene(Align.BASELINE)\n",
    "scene.add_polyiamond('p1', p1)\n",
    "\n",
    "scene.pack()\n",
    "scene.show_grid()\n",
    "(off_x, off_y) = scene.get_offset('p1')\n",
    "\n",
    "perimeter = p1.list_perimeter()\n",
    "perimeter2d = [pp.get_xy() for pp in perimeter]\n",
    "for (x,y) in perimeter2d:\n",
    "    scene.ax.plot(x+off_x, y, marker='o', color='blue')\n",
    "    \n",
    "scene.set_size_in(6,3)"
   ]
  },
  {
   "cell_type": "markdown",
   "id": "9ac20264",
   "metadata": {},
   "source": [
    "**4. piemērs:** Uzzīmē polimondu, nokrāso veselos punktus tā iekšpusē (ieskaitot perimetru). Sanumurē punktus `PointTg` leksikogrāfiskajā secībā."
   ]
  },
  {
   "cell_type": "code",
   "execution_count": null,
   "id": "35018abb",
   "metadata": {},
   "outputs": [],
   "source": [
    "from polyforms.draw_scene import *\n",
    "from polyforms.polyiamond import Polyiamond\n",
    "\n",
    "p1 = Polyiamond('ACEDF')\n",
    "scene = DrawScene(Align.BASELINE)\n",
    "scene.add_polyiamond('p1', p1)\n",
    "\n",
    "scene.pack()\n",
    "scene.show_grid()\n",
    "(off_x, off_y) = scene.get_offset('p1')\n",
    "\n",
    "inside = p1.list_inside()\n",
    "print(\"Punkti iekšpusē: {}\".format(inside))\n",
    "inside2d = [pp.get_xy() for pp in inside]\n",
    "for idx,(x,y) in enumerate(inside2d):\n",
    "    scene.ax.plot(x+off_x, y, marker='o', color='g')\n",
    "    scene.ax.text(x+off_x-0.1, y+0.15, f'{idx}')\n",
    "    \n",
    "scene.set_size_in(10,5)"
   ]
  },
  {
   "cell_type": "markdown",
   "id": "402520b6",
   "metadata": {},
   "source": [
    "**5. piemērs:** Uzzīmē polimondu un tā diametru."
   ]
  },
  {
   "cell_type": "code",
   "execution_count": null,
   "id": "99784c4f",
   "metadata": {},
   "outputs": [],
   "source": [
    "p1 = Polyiamond('ACECEAEAC')\n",
    "scene = DrawScene(Align.BASELINE)\n",
    "scene.add_polyiamond('p1', p1)\n",
    "\n",
    "scene.pack()\n",
    "scene.show_grid()\n",
    "scene.set_size_in(4,2)"
   ]
  },
  {
   "cell_type": "code",
   "execution_count": null,
   "id": "2aac7df4",
   "metadata": {},
   "outputs": [],
   "source": [
    "from polyforms.draw_scene import *\n",
    "from polyforms.polyiamond import Polyiamond\n",
    "\n",
    "pp = Polyiamond('ACEDFEFEACBCBCACBFBDC')\n",
    "scene = DrawScene(Align.BASELINE)\n",
    "scene.add_polyiamond('pp', pp)\n",
    "scene.pack()\n",
    "\n",
    "offset = scene.get_offset_tg('pp')\n",
    "(diam, i_max, j_max) = pp.diameter()\n",
    "v_i = (pp.get_vertices()[i_max]+offset).get_xy()\n",
    "v_j = (pp.get_vertices()[j_max]+offset).get_xy()\n",
    "\n",
    "scene.ax.plot(*v_i, marker='o', color='g')\n",
    "scene.ax.plot(*v_j, marker='o', color='g')\n",
    "scene.ax.plot([v_i[0], v_j[0]], [v_i[1], v_j[1]])\n",
    "\n",
    "scene.set_size_in(3,9)"
   ]
  },
  {
   "cell_type": "markdown",
   "id": "d737b386",
   "metadata": {},
   "source": [
    "**6. piemērs:** Uzzīmē polimonda perimetru un izkrāso tā trijstūrīšus divās krāsās."
   ]
  },
  {
   "cell_type": "code",
   "execution_count": null,
   "id": "359e7c31",
   "metadata": {},
   "outputs": [],
   "source": [
    "from polyforms.draw_scene import *\n",
    "from polyforms.polyiamond import Polyiamond\n",
    "\n",
    "pp = Polyiamond('ACDCEAEACAEAECEAEAC')\n",
    "scene = DrawScene(Align.BASELINE)\n",
    "scene.add_polyiamond('pp', pp)\n",
    "scene.pack()\n",
    "\n",
    "scene.show_grid()\n",
    "scene.set_size_in(8,9)"
   ]
  },
  {
   "cell_type": "code",
   "execution_count": null,
   "id": "63dad0bb",
   "metadata": {},
   "outputs": [],
   "source": [
    "from polyforms.n_gon import *\n",
    "\n",
    "# Izdrukā virzienu burtus perfektiem 7-polimondiem dažādos formātos\n",
    "N = 7\n",
    "perm = list(range(N,0,-1))\n",
    "print_all_solutions(perm, Format.COMPACT, '')\n",
    "print_all_solutions(perm, Format.LETTERS, '')\n",
    "print_all_solutions(perm, Format.DESCARTES, '')"
   ]
  },
  {
   "cell_type": "code",
   "execution_count": null,
   "id": "0f6605d1",
   "metadata": {},
   "outputs": [],
   "source": [
    "# Uzzīmē visus perfektos 13-polimondus, kas sākas ar virkni ABCDEF.\n",
    "\n",
    "from polyforms.polyiamond import Polyiamond\n",
    "from polyforms.draw_scene import *\n",
    "\n",
    "mylist = get_all_solutions(list(range(13,0,-1)), Format.COMPACT)\n",
    "mylist = [item for item in mylist if item.startswith('ABCDEF')]\n",
    "print(f'mylist = {mylist}')\n",
    "\n",
    "polygons = [Polyiamond(s) for s in mylist]\n",
    "scene = DrawScene(Align.BASELINE)\n",
    "\n",
    "for idx,poly in enumerate(polygons):\n",
    "    scene.add_polyiamond(f'p{idx}', poly)\n",
    "    \n",
    "scene.pack()\n",
    "scene.show_grid()\n",
    "scene.set_size_in(15,5)"
   ]
  },
  {
   "cell_type": "code",
   "execution_count": null,
   "id": "6d833cb8",
   "metadata": {},
   "outputs": [],
   "source": []
  }
 ],
 "metadata": {
  "kernelspec": {
   "display_name": "Python 3 (ipykernel)",
   "language": "python",
   "name": "python3"
  },
  "language_info": {
   "codemirror_mode": {
    "name": "ipython",
    "version": 3
   },
   "file_extension": ".py",
   "mimetype": "text/x-python",
   "name": "python",
   "nbconvert_exporter": "python",
   "pygments_lexer": "ipython3",
   "version": "3.9.12"
  }
 },
 "nbformat": 4,
 "nbformat_minor": 5
}

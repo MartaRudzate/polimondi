{
 "cells": [
  {
   "cell_type": "markdown",
   "id": "9edbd9e9",
   "metadata": {},
   "source": [
    "# Polimondu ģeometrijas piemēri"
   ]
  },
  {
   "cell_type": "markdown",
   "id": "fea0f2d3",
   "metadata": {},
   "source": [
    "**1. piemērs:** Izvada virsotnes un visus veselos punktus uz polimonda perimetra."
   ]
  },
  {
   "cell_type": "code",
   "execution_count": 1,
   "id": "1da85b2d",
   "metadata": {},
   "outputs": [
    {
     "name": "stdout",
     "output_type": "stream",
     "text": [
      "Virsotnes: [(0,0,0), (5,0,-5), (5,-4,-1), (2,-1,-1), (0,-1,1)]\n",
      "Perimetra punkti: [(1,0,-1), (2,0,-2), (3,0,-3), (4,0,-4), (5,0,-5), (5,-1,-4), (5,-2,-3), (5,-3,-2), (5,-4,-1), (4,-3,-1), (3,-2,-1), (2,-1,-1), (1,-1,0), (0,-1,1), (0,0,0)]\n"
     ]
    }
   ],
   "source": [
    "from polyforms.poly_geometry import PolyGeometry\n",
    "\n",
    "p1 = PolyGeometry([(5, 'A'), (4, 'C'), (3, 'E'), (2, 'D'), (1, 'F')])\n",
    "print('Virsotnes: {}'.format(p1.get_vertices()))\n",
    "print('Perimetra punkti: {}'.format(p1.list_perimeter()))"
   ]
  },
  {
   "cell_type": "markdown",
   "id": "aa0104c0",
   "metadata": {},
   "source": [
    "**2. piemērs:** Atrod polimonda laukumu, minimālo iekļaujošo sešstūri (*hexagonal bounding box*), \n",
    "leņķu skaitu pa lielumiem: $60^{\\circ}$, $120^{\\circ}$, $240^{\\circ}$, $300^{\\circ}$:"
   ]
  },
  {
   "cell_type": "code",
   "execution_count": 2,
   "id": "5753e300",
   "metadata": {},
   "outputs": [
    {
     "name": "stdout",
     "output_type": "stream",
     "text": [
      "Laukums: 19\n",
      "Iekļaujošā sešstūra gabarīti: (4, 6, 5)\n",
      "Iekšējo leņķu skaits (n60,n120,n240,n300): (3, 1, 1, 0)\n"
     ]
    }
   ],
   "source": [
    "print('Laukums: {}'.format(p1.get_signed_area()))\n",
    "print('Iekļaujošā sešstūra gabarīti: {}'.format(p1.get_bounding_sizes()))\n",
    "print('Iekšējo leņķu skaits (n60,n120,n240,n300): {}'.format(p1.internal_angles()))"
   ]
  },
  {
   "cell_type": "code",
   "execution_count": 6,
   "id": "359e7c31",
   "metadata": {},
   "outputs": [
    {
     "data": {
      "text/plain": [
       "<Figure size 432x288 with 0 Axes>"
      ]
     },
     "metadata": {},
     "output_type": "display_data"
    },
    {
     "data": {
      "image/png": "[encoded data removed]",
      "text/plain": [
       "<Figure size 432x288 with 1 Axes>"
      ]
     },
     "metadata": {
      "needs_background": "light"
     },
     "output_type": "display_data"
    }
   ],
   "source": [
    "from polyforms.draw_scene import *\n",
    "from polyforms.seq_storage import *\n",
    "import numpy as np\n",
    "\n",
    "TH = np.sqrt(3)/2\n",
    "storage = SeqStorage()\n",
    "\n",
    "def test_generate_sequence_4_3_a():\n",
    "    myseq = storage.get_sequence('SEQUENCE_4_3_A')\n",
    "    scene = draw_scene(-4, -8, 80, 80, '#999999', 'solid', 0.25)\n",
    "    scene.draw_seq(myseq[0], 'b', [0.0,0.0])\n",
    "    scene.draw_seq(myseq[1], 'b', [25.0,0.0])\n",
    "    scene.draw_seq(myseq[2], 'b', [50.0,0.0])\n",
    "    \n",
    "test_generate_sequence_4_3_a()"
   ]
  }
 ],
 "metadata": {
  "kernelspec": {
   "display_name": "Python 3 (ipykernel)",
   "language": "python",
   "name": "python3"
  },
  "language_info": {
   "codemirror_mode": {
    "name": "ipython",
    "version": 3
   },
   "file_extension": ".py",
   "mimetype": "text/x-python",
   "name": "python",
   "nbconvert_exporter": "python",
   "pygments_lexer": "ipython3",
   "version": "3.9.12"
  }
 },
 "nbformat": 4,
 "nbformat_minor": 5
}

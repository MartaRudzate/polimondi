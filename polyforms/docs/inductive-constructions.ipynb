{
 "cells": [
  {
   "cell_type": "markdown",
   "id": "8cb911f5",
   "metadata": {},
   "source": [
    "# Polimondu bildes ar DrawScene"
   ]
  },
  {
   "cell_type": "markdown",
   "id": "8c92bd90",
   "metadata": {},
   "source": [
    "**1. piemērs:** Uzzīmējam rindiņā dažus polimondus, vienam no tiem apvelkam gabarītu taisnstūri, kas palīdz izvietot polimondus horizontālā joslā.  Tikai `Align.BASELINE` ir atbalstīts - figūriņas zīmē tā, lai to sākumpunkti, kuros sākas perfektā polimonda garākā mala, sakristu. Citi izlīdzināšanas paņēmieni būtu `Align.TOP`, `Align.BOTTOM`, `Align.CENTER`."
   ]
  },
  {
   "cell_type": "code",
   "execution_count": null,
   "id": "ef9e8e7d",
   "metadata": {},
   "outputs": [],
   "source": [
    "from polyforms.draw_scene import *\n",
    "from polyforms.perfect_seq import *\n",
    "from polyforms.polyiamond import Polyiamond\n",
    "import numpy as np\n",
    "\n",
    "p_series = PerfectSeq()\n",
    "seq = SEQ_4_3_A\n",
    "scene = DrawScene(Align.BASELINE)\n",
    "monds = [Polyiamond(s) for s in seq]\n",
    "\n",
    "scene.add_polyiamond('p0', monds[0], box=True)\n",
    "print('bounding box is {}'.format(monds[0].get_rect_box()))\n",
    "scene.add_polyiamond('p1', monds[1])\n",
    "scene.add_polyiamond('p2', monds[2])\n",
    "\n",
    "scene.pack()\n",
    "scene.show_grid()\n",
    "scene.set_size_in(10,10)"
   ]
  },
  {
   "cell_type": "markdown",
   "id": "35b89064",
   "metadata": {},
   "source": [
    "**2. piemērs:** Polimondu virkne ar jauno malu izcēlumiem."
   ]
  },
  {
   "cell_type": "code",
   "execution_count": null,
   "id": "7d0f67c7",
   "metadata": {},
   "outputs": [],
   "source": [
    "from polyforms.draw_scene import *\n",
    "from polyforms.perfect_seq import *\n",
    "from polyforms.polyiamond import Polyiamond\n",
    "\n",
    "storage = PerfectSeq()\n",
    "myseq = SEQ_4_3_A\n",
    "\n",
    "polygons = [Polyiamond(s) for s in myseq]\n",
    "scene = DrawScene(Align.BASELINE)\n",
    "\n",
    "for i in range(3):\n",
    "    scene.add_polyiamond(f'p{i}', polygons[i])\n",
    "\n",
    "scene.pack()\n",
    "scene.highlight('p1', [3, 7, 11, 14], '#DC143C')\n",
    "scene.highlight('p2', [3, 8, 13, 17], '#DC143C')\n",
    "scene.highlight('p2', [4, 9, 14, 18], '#2D9BF0')\n",
    "\n",
    "scene.show_grid()\n",
    "scene.set_size_in(14,10)"
   ]
  },
  {
   "cell_type": "markdown",
   "id": "1274acf8",
   "metadata": {},
   "source": [
    "**3. piemērs:** Polimondu virkne ar indukcijas soli $k \\rightarrow k+6$. Masīvs `offsets` palīdz tos sabīdīt ciešāk."
   ]
  },
  {
   "cell_type": "code",
   "execution_count": null,
   "id": "e45cd911",
   "metadata": {},
   "outputs": [],
   "source": [
    "from polyforms.draw_scene import *\n",
    "from polyforms.perfect_seq import *\n",
    "from polyforms.polyiamond import Polyiamond\n",
    "from polyforms.point_tg import *\n",
    "import numpy as np\n",
    "\n",
    "storage = PerfectSeq()\n",
    "\n",
    "print(SEQ_6_5_B[0])\n",
    "\n",
    "polygons = [Polyiamond(s) for s in SEQ_6_5_B]\n",
    "\n",
    "scene = DrawScene(Align.BASELINE)\n",
    "# Sabīda daudzstūrus ciešāk kopā\n",
    "offsets = [0, -25, -60, -105, -160]\n",
    "for i in range(5):\n",
    "    scene.add_polyiamond(f'p{i}', polygons[i], (offsets[i], 0))\n",
    "    \n",
    "scene.pack()\n",
    "scene.set_size_in(14,10)"
   ]
  },
  {
   "cell_type": "markdown",
   "id": "8f7ec1fb",
   "metadata": {},
   "source": [
    "**4. piemērs:** Konstrukcija no Martas vēstules - divi dažādi veidi, kā tam pašam polimondam pievienot induktīvo pāreju. (Abos gadījumos pāreja satur tos pašus virzienus, bet ievieto tos dažādās vietās.)"
   ]
  },
  {
   "cell_type": "code",
   "execution_count": null,
   "id": "55f3c192",
   "metadata": {},
   "outputs": [],
   "source": [
    "seq0 = 'ACBACBDFEDFEDFEDFEACBAC'\n",
    "seq1 = 'ACBABCBDFEDFDFEDFEDEFEACBACAC'\n",
    "seq2 = 'ABCBACBDFEDFDFEDEFEDFEACBACAC'\n",
    "\n",
    "# scene2 = DrawScene(-10, -30, 260, 240, '#999999', 'solid', 0.25)\n",
    "scene2 = DrawScene(Align.BASELINE)\n",
    "\n",
    "poly0 = Polyiamond(seq0)\n",
    "poly1 = Polyiamond(seq1)\n",
    "poly2 = Polyiamond(seq2)\n",
    "\n",
    "scene2.add_polyiamond('poly0', poly0)\n",
    "scene2.add_polyiamond('poly1', poly1, (-20,0))\n",
    "scene2.add_polyiamond('poly2', poly2, (-40,0))\n",
    "scene2.pack()\n",
    "\n",
    "scene2.highlight('poly1', [4, 12, 13, 19, 27, 28], '#2D9BF0')\n",
    "scene2.highlight('poly2', [1, 10, 11, 16, 25, 26], '#8FD14E')\n",
    "\n",
    "scene2.set_size_in(14,10)"
   ]
  },
  {
   "cell_type": "code",
   "execution_count": null,
   "id": "ef8479f7",
   "metadata": {},
   "outputs": [],
   "source": []
  }
 ],
 "metadata": {
  "kernelspec": {
   "display_name": "Python 3 (ipykernel)",
   "language": "python",
   "name": "python3"
  },
  "language_info": {
   "codemirror_mode": {
    "name": "ipython",
    "version": 3
   },
   "file_extension": ".py",
   "mimetype": "text/x-python",
   "name": "python",
   "nbconvert_exporter": "python",
   "pygments_lexer": "ipython3",
   "version": "3.9.12"
  }
 },
 "nbformat": 4,
 "nbformat_minor": 5
}

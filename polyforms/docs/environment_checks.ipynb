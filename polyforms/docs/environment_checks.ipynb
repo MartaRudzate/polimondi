{
 "cells": [
  {
   "cell_type": "markdown",
   "id": "9edbd9e9",
   "metadata": {},
   "source": [
    "Check that Markdown **bold** works. "
   ]
  },
  {
   "cell_type": "code",
   "execution_count": 6,
   "id": "733f9267",
   "metadata": {},
   "outputs": [
    {
     "name": "stdout",
     "output_type": "stream",
     "text": [
      "0.8414709848078965\n"
     ]
    }
   ],
   "source": [
    "# Check that some mathematics works\n",
    "import math\n",
    "x = math.sin(1)\n",
    "print(x)"
   ]
  },
  {
   "cell_type": "code",
   "execution_count": 1,
   "id": "1da85b2d",
   "metadata": {},
   "outputs": [
    {
     "name": "stdout",
     "output_type": "stream",
     "text": [
      "[(1,0,-1), (2,0,-2), (3,0,-3), (4,0,-4), (5,0,-5), (5,-1,-4), (5,-2,-3), (5,-3,-2), (5,-4,-1), (4,-3,-1), (3,-2,-1), (2,-1,-1), (1,-1,0), (0,-1,1), (0,0,0)]\n"
     ]
    }
   ],
   "source": [
    "# Check that polyforms can be used\n",
    "\n",
    "from polyforms.poly_geometry import PolyGeometry\n",
    "from polyforms.point_tg import *\n",
    "\n",
    "p1 = PolyGeometry([(5, 'A'), (4, 'C'), (3, 'E'), (2, 'D'), (1, 'F')])\n",
    "all_points = p1.list_perimeter()\n",
    "print(all_points)"
   ]
  },
  {
   "cell_type": "code",
   "execution_count": 9,
   "id": "5753e300",
   "metadata": {},
   "outputs": [
    {
     "name": "stdout",
     "output_type": "stream",
     "text": [
      "/Users/kapsitis/opt/anaconda3/bin/python\n"
     ]
    }
   ],
   "source": [
    "# Display the root of your Python executable\n",
    "import sys\n",
    "print(sys.executable)"
   ]
  },
  {
   "cell_type": "code",
   "execution_count": 1,
   "id": "359e7c31",
   "metadata": {},
   "outputs": [
    {
     "name": "stdout",
     "output_type": "stream",
     "text": [
      "Name: polyforms\r\n",
      "Version: 0.1.0\r\n",
      "Summary: Code to list polyiamonds, to find their properties and to create images.\r\n",
      "Home-page: \r\n",
      "Author: Kalvis Apsitis\r\n",
      "Author-email: kalvis.apsitis@gmail.com\r\n",
      "License: \r\n",
      "Location: /usr/local/lib/python3.9/site-packages\r\n",
      "Requires: \r\n",
      "Required-by: \r\n"
     ]
    }
   ],
   "source": [
    "# Display information about \"polyforms\" package\n",
    "!pip show polyforms"
   ]
  },
  {
   "cell_type": "code",
   "execution_count": 4,
   "id": "4d943932",
   "metadata": {},
   "outputs": [
    {
     "name": "stdout",
     "output_type": "stream",
     "text": [
      "Module 'poly_geometry' in package 'polyforms' not found\n"
     ]
    }
   ],
   "source": [
    "# Verify that a module 'poly_geometry' exists within 'polyforms'\n",
    "import importlib\n",
    "\n",
    "def check_module(package, module):\n",
    "    try:\n",
    "        importlib.import_module(f\"{package}.{module}\")\n",
    "        print(f\"Module '{module}' in package '{package}' found\")\n",
    "    except ImportError:\n",
    "        print(f\"Module '{module}' in package '{package}' not found\")\n",
    "\n",
    "# usage\n",
    "check_module('polyforms', 'poly_geometry')"
   ]
  },
  {
   "cell_type": "code",
   "execution_count": 2,
   "id": "f62193f4",
   "metadata": {},
   "outputs": [
    {
     "name": "stdout",
     "output_type": "stream",
     "text": [
      "/Users/kapsitis/opt/anaconda3/lib/python3.9/site-packages/polyforms/__init__.py\n"
     ]
    }
   ],
   "source": [
    "import polyforms\n",
    "print(polyforms.__file__)"
   ]
  },
  {
   "cell_type": "code",
   "execution_count": 4,
   "id": "0a0c148f",
   "metadata": {},
   "outputs": [
    {
     "name": "stdout",
     "output_type": "stream",
     "text": [
      "Modules in package 'polyforms':\n",
      "backtrackk\n",
      "check_permutations\n",
      "geom_utilities\n",
      "mag_enum\n",
      "n_gon\n",
      "point_tg\n",
      "poly_geometry\n",
      "seq_storage\n"
     ]
    }
   ],
   "source": [
    "import pkgutil\n",
    "import importlib\n",
    "\n",
    "def list_modules(package):\n",
    "    try:\n",
    "        package = importlib.import_module(package)\n",
    "    except ImportError:\n",
    "        print(f\"Package '{package}' not found\")\n",
    "        return\n",
    "\n",
    "    print(f\"Modules in package '{package.__name__}':\")\n",
    "    for _, modname, _ in pkgutil.iter_modules(package.__path__):\n",
    "        print(modname)\n",
    "\n",
    "# usage\n",
    "list_modules('polyforms')"
   ]
  },
  {
   "cell_type": "code",
   "execution_count": 3,
   "id": "1e20c8f5",
   "metadata": {},
   "outputs": [
    {
     "name": "stdout",
     "output_type": "stream",
     "text": [
      "Name: polyforms\r\n",
      "Version: 0.1.0\r\n",
      "Summary: Code to list polyiamonds, to find their properties and to create images.\r\n",
      "Home-page: \r\n",
      "Author: Kalvis Apsitis\r\n",
      "Author-email: kalvis.apsitis@gmail.com\r\n",
      "License: \r\n",
      "Location: /usr/local/lib/python3.9/site-packages\r\n",
      "Requires: \r\n",
      "Required-by: \r\n",
      "Files:\r\n",
      "  polyforms-0.1.0.dist-info/INSTALLER\r\n",
      "  polyforms-0.1.0.dist-info/METADATA\r\n",
      "  polyforms-0.1.0.dist-info/RECORD\r\n",
      "  polyforms-0.1.0.dist-info/REQUESTED\r\n",
      "  polyforms-0.1.0.dist-info/WHEEL\r\n",
      "  polyforms-0.1.0.dist-info/direct_url.json\r\n",
      "  polyforms/__init__.py\r\n",
      "  polyforms/__pycache__/__init__.cpython-39.pyc\r\n",
      "  polyforms/__pycache__/backtrackk.cpython-39.pyc\r\n",
      "  polyforms/__pycache__/geom_utilities.cpython-39.pyc\r\n",
      "  polyforms/__pycache__/mag_enum.cpython-39.pyc\r\n",
      "  polyforms/__pycache__/n_gon.cpython-39.pyc\r\n",
      "  polyforms/__pycache__/point_tg.cpython-39.pyc\r\n",
      "  polyforms/__pycache__/poly_geometry.cpython-39.pyc\r\n",
      "  polyforms/__pycache__/seq_storage.cpython-39.pyc\r\n",
      "  polyforms/backtrackk.py\r\n",
      "  polyforms/check_permutations.py\r\n",
      "  polyforms/geom_utilities.py\r\n",
      "  polyforms/mag_enum.py\r\n",
      "  polyforms/n_gon.py\r\n",
      "  polyforms/point_tg.py\r\n",
      "  polyforms/poly_geometry.py\r\n",
      "  polyforms/seq_storage.py\r\n"
     ]
    }
   ],
   "source": [
    "!pip show -f polyforms"
   ]
  },
  {
   "cell_type": "code",
   "execution_count": 12,
   "id": "7e2db7b8",
   "metadata": {},
   "outputs": [
    {
     "name": "stdout",
     "output_type": "stream",
     "text": [
      "['/Users/kapsitis/workspace-public/polimondi/polyforms/docs', '/Users/kapsitis/opt/anaconda3/lib/python39.zip', '/Users/kapsitis/opt/anaconda3/lib/python3.9', '/Users/kapsitis/opt/anaconda3/lib/python3.9/lib-dynload', '', '/Users/kapsitis/opt/anaconda3/lib/python3.9/site-packages', '/Users/kapsitis/opt/anaconda3/lib/python3.9/site-packages/aeosa']\n"
     ]
    }
   ],
   "source": [
    "import sys\n",
    "\n",
    "print(sys.path)"
   ]
  }
 ],
 "metadata": {
  "kernelspec": {
   "display_name": "Python 3 (ipykernel)",
   "language": "python",
   "name": "python3"
  },
  "language_info": {
   "codemirror_mode": {
    "name": "ipython",
    "version": 3
   },
   "file_extension": ".py",
   "mimetype": "text/x-python",
   "name": "python",
   "nbconvert_exporter": "python",
   "pygments_lexer": "ipython3",
   "version": "3.9.12"
  }
 },
 "nbformat": 4,
 "nbformat_minor": 5
}

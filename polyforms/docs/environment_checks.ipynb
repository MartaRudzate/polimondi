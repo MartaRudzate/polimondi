{
 "cells": [
  {
   "cell_type": "markdown",
   "id": "9edbd9e9",
   "metadata": {},
   "source": [
    "Check that Markdown **bold** works. "
   ]
  },
  {
   "cell_type": "code",
   "execution_count": null,
   "id": "733f9267",
   "metadata": {},
   "outputs": [],
   "source": [
    "# Check that some mathematics works\n",
    "import math\n",
    "x = math.sin(1)\n",
    "print(x)"
   ]
  },
  {
   "cell_type": "code",
   "execution_count": null,
   "id": "1da85b2d",
   "metadata": {},
   "outputs": [],
   "source": [
    "# Check that polyforms can be used\n",
    "\n",
    "from polyforms.polyiamond import Polyiamond\n",
    "from polyforms.point_tg import *\n",
    "\n",
    "p1 = Polyiamond([(5, 'A'), (4, 'C'), (3, 'E'), (2, 'D'), (1, 'F')])\n",
    "all_points = p1.list_perimeter()\n",
    "print(all_points)"
   ]
  },
  {
   "cell_type": "code",
   "execution_count": null,
   "id": "5753e300",
   "metadata": {},
   "outputs": [],
   "source": [
    "# Display the root of your Python executable\n",
    "import sys\n",
    "print(sys.executable)"
   ]
  },
  {
   "cell_type": "code",
   "execution_count": null,
   "id": "359e7c31",
   "metadata": {},
   "outputs": [],
   "source": [
    "# Display information about \"polyforms\" package\n",
    "!pip show polyforms"
   ]
  },
  {
   "cell_type": "code",
   "execution_count": null,
   "id": "4d943932",
   "metadata": {},
   "outputs": [],
   "source": [
    "# Verify that a module 'poly_geometry' exists within 'polyforms'\n",
    "import importlib\n",
    "\n",
    "def check_module(package, module):\n",
    "    try:\n",
    "        importlib.import_module(f\"{package}.{module}\")\n",
    "        print(f\"Module '{module}' in package '{package}' found\")\n",
    "    except ImportError:\n",
    "        print(f\"Module '{module}' in package '{package}' not found\")\n",
    "\n",
    "# usage\n",
    "check_module('polyforms', 'poly_geometry')"
   ]
  },
  {
   "cell_type": "code",
   "execution_count": null,
   "id": "f62193f4",
   "metadata": {},
   "outputs": [],
   "source": [
    "import polyforms\n",
    "print(polyforms.__file__)"
   ]
  },
  {
   "cell_type": "code",
   "execution_count": null,
   "id": "0a0c148f",
   "metadata": {},
   "outputs": [],
   "source": [
    "import pkgutil\n",
    "import importlib\n",
    "\n",
    "def list_modules(package):\n",
    "    try:\n",
    "        package = importlib.import_module(package)\n",
    "    except ImportError:\n",
    "        print(f\"Package '{package}' not found\")\n",
    "        return\n",
    "\n",
    "    print(f\"Modules in package '{package.__name__}':\")\n",
    "    for _, modname, _ in pkgutil.iter_modules(package.__path__):\n",
    "        print(modname)\n",
    "\n",
    "# usage\n",
    "list_modules('polyforms')"
   ]
  },
  {
   "cell_type": "code",
   "execution_count": null,
   "id": "1e20c8f5",
   "metadata": {},
   "outputs": [],
   "source": [
    "!pip show -f polyforms"
   ]
  },
  {
   "cell_type": "code",
   "execution_count": null,
   "id": "7e2db7b8",
   "metadata": {},
   "outputs": [],
   "source": [
    "import sys\n",
    "\n",
    "print(sys.path)"
   ]
  }
 ],
 "metadata": {
  "kernelspec": {
   "display_name": "Python 3 (ipykernel)",
   "language": "python",
   "name": "python3"
  },
  "language_info": {
   "codemirror_mode": {
    "name": "ipython",
    "version": 3
   },
   "file_extension": ".py",
   "mimetype": "text/x-python",
   "name": "python",
   "nbconvert_exporter": "python",
   "pygments_lexer": "ipython3",
   "version": "3.9.12"
  }
 },
 "nbformat": 4,
 "nbformat_minor": 5
}

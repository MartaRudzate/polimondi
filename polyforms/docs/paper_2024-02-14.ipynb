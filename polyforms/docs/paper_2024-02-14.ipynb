{
 "cells": [
  {
   "cell_type": "code",
   "execution_count": null,
   "id": "835e5ab4",
   "metadata": {},
   "outputs": [],
   "source": [
    "from polyforms.polyiamond import Polyiamond\n",
    "from polyforms.draw_scene import *\n",
    "from polyforms.n_gon import *\n",
    "\n",
    "pp = ['ACEDF', 'ACECEAEAC', 'ABCDEDEFAFAB']\n",
    "\n",
    "mylist_pp = [Polyiamond(a) for a in pp]\n",
    "\n",
    "offsets = [(0,0), (0,0), (-6,0)]\n",
    "\n",
    "scene = DrawScene(Align.BASELINE)\n",
    "for idx,poly in enumerate(mylist_pp):\n",
    "    scene.add_polyiamond(f'p{idx}', poly, (offsets[idx]))\n",
    "\n",
    "scene.pack()\n",
    "scene.show_grid()\n",
    "scene.set_size_in(11,5)"
   ]
  },
  {
   "cell_type": "code",
   "execution_count": null,
   "id": "c78d2588",
   "metadata": {},
   "outputs": [],
   "source": [
    "from polyforms.grammar import *\n",
    "from polyforms.polyiamond import Polyiamond\n",
    "from polyforms.draw_scene import *\n",
    "from polyforms.n_gon import *\n",
    "\n",
    "axiom = 'acb[S1]dfe[S2]dfe[S3]ac[S4]'\n",
    "rule0 = {'S1':'c[T1]', 'S2':'f[T2]', 'S3':'f[T3]', 'S4':'b[T4]',\n",
    "         'T1':'b[S1]', 'T2':'e[S2]', 'T3':'e[S3]', 'T4':'c[S4]'}\n",
    "g = Grammar(axiom, [rule0])\n",
    "pp = [g.derive([0]*i) for i in range(3)]\n",
    "poly = [Polyiamond(p) for p in pp]\n",
    "\n",
    "offsets = [(0,0)]*3\n",
    "\n",
    "scene = DrawScene(Align.BASELINE)\n",
    "for idx,poly in enumerate(poly):\n",
    "    scene.add_polyiamond(f'p{idx}', poly, (offsets[idx]))\n",
    "\n",
    "scene.pack()\n",
    "scene.set_size_in(11,5)"
   ]
  },
  {
   "cell_type": "code",
   "execution_count": null,
   "id": "4e3dcafb",
   "metadata": {},
   "outputs": [],
   "source": [
    "from polyforms.grammar import *\n",
    "from polyforms.polyiamond import Polyiamond\n",
    "from polyforms.draw_scene import *\n",
    "from polyforms.n_gon import *\n",
    "\n",
    "axiom = 'a[S]c[U]e[W]'\n",
    "rule0 = {'S':'[S]f[X]b[T]a[S]', 'T':'[T]a[S]c[U]b[T]', 'U':'[U]b[T]d[V]c[U]', \n",
    "         'V':'[V]c[U]e[W]d[V]', 'W':'[W]d[V]f[X]e[W]', 'X':'[X]e[W]a[S]f[X]'}\n",
    "g = Grammar(axiom, [rule0])\n",
    "pp = [g.derive([0]*i) for i in range(4)]\n",
    "poly = [Polyiamond(list(zip([1]*len(p), list(p)))) for p in pp]\n",
    "\n",
    "offsets = [(0,0), (-1,0), (-5,0), (-20,0)]\n",
    "\n",
    "scene = DrawScene(Align.BASELINE)\n",
    "for idx,poly in enumerate(poly):\n",
    "    scene.add_polyiamond(f'p{idx}', poly, (offsets[idx]))\n",
    "\n",
    "scene.pack()\n",
    "scene.show_grid()\n",
    "scene.set_size_in(13,6)"
   ]
  },
  {
   "cell_type": "code",
   "execution_count": null,
   "id": "60735635",
   "metadata": {},
   "outputs": [],
   "source": [
    "pp = ['ACACECECECEAECEAEACAEACAEACAEACAEAEACAC']\n",
    "print(pp[0].lower())\n",
    "\n",
    "poly = [Polyiamond(p) for p in pp]\n",
    "\n",
    "offsets = [(0,0)]*3\n",
    "\n",
    "scene = DrawScene(Align.BASELINE)\n",
    "for idx,poly in enumerate(poly):\n",
    "    scene.add_polyiamond(f'p{idx}', poly, (offsets[idx]))\n",
    "\n",
    "scene.pack()\n",
    "scene.set_size_in(6,3)"
   ]
  },
  {
   "cell_type": "code",
   "execution_count": null,
   "id": "2d207ee7",
   "metadata": {},
   "outputs": [],
   "source": [
    "from polyforms.grammar import *\n",
    "\n",
    "axiom = 'ab[S]dede[T]ab[U]'\n",
    "rule0 = {'S':'ab[S]', 'T':'dede[T]', 'U':'ab[U]'}\n",
    "g = Grammar(axiom, [rule0])\n",
    "pp = [g.derive([0]*i) for i in range(3)]\n",
    "\n",
    "poly = [Polyiamond(p) for p in pp]\n",
    "\n",
    "offsets = [(0,0), (-30,0), (-90,0)]\n",
    "\n",
    "scene = DrawScene(Align.BASELINE)\n",
    "for idx,poly in enumerate(poly):\n",
    "    scene.add_polyiamond(f'p{idx}', poly, (offsets[idx]))\n",
    "\n",
    "scene.pack()\n",
    "scene.set_size_in(18,5)"
   ]
  },
  {
   "cell_type": "code",
   "execution_count": null,
   "id": "16a8002c",
   "metadata": {},
   "outputs": [],
   "source": [
    "from polyforms.grammar import *\n",
    "from polyforms.polyiamond import Polyiamond\n",
    "from polyforms.draw_scene import *\n",
    "from polyforms.n_gon import *\n",
    "\n",
    "axiom = ''\n",
    "rule0 = {'S1':'c[T1]', 'S2':'f[T2]', 'S3':'f[T3]', 'S4':'b[T4]',\n",
    "         'T1':'b[S1]', 'T2':'e[S2]', 'T3':'e[S3]', 'T4':'c[S4]'}\n",
    "g = Grammar(axiom, [rule0])\n",
    "pp = [g.derive([0]*i) for i in range(3)]"
   ]
  }
 ],
 "metadata": {
  "kernelspec": {
   "display_name": "Python 3 (ipykernel)",
   "language": "python",
   "name": "python3"
  },
  "language_info": {
   "codemirror_mode": {
    "name": "ipython",
    "version": 3
   },
   "file_extension": ".py",
   "mimetype": "text/x-python",
   "name": "python",
   "nbconvert_exporter": "python",
   "pygments_lexer": "ipython3",
   "version": "3.9.12"
  }
 },
 "nbformat": 4,
 "nbformat_minor": 5
}

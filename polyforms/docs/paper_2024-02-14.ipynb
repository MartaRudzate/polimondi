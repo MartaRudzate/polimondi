{
 "cells": [
  {
   "cell_type": "code",
   "execution_count": null,
   "id": "835e5ab4",
   "metadata": {},
   "outputs": [],
   "source": [
    "from polyforms.polyiamond import Polyiamond\n",
    "from polyforms.draw_scene import *\n",
    "from polyforms.n_gon import *\n",
    "\n",
    "pp = ['ACEDF', 'ACECEAEAC', 'ABCDEDEFAFAB']\n",
    "\n",
    "mylist_pp = [Polyiamond(a) for a in pp]\n",
    "\n",
    "offsets = [(0,0), (0,0), (-6,0)]\n",
    "\n",
    "scene = DrawScene(Align.BASELINE)\n",
    "for idx,poly in enumerate(mylist_pp):\n",
    "    scene.add_polyiamond(f'p{idx}', poly, (offsets[idx]))\n",
    "\n",
    "scene.pack()\n",
    "scene.show_grid()\n",
    "scene.set_size_in(11,5)"
   ]
  },
  {
   "cell_type": "code",
   "execution_count": null,
   "id": "ffc137e2",
   "metadata": {},
   "outputs": [],
   "source": []
  }
 ],
 "metadata": {
  "kernelspec": {
   "display_name": "Python 3 (ipykernel)",
   "language": "python",
   "name": "python3"
  },
  "language_info": {
   "codemirror_mode": {
    "name": "ipython",
    "version": 3
   },
   "file_extension": ".py",
   "mimetype": "text/x-python",
   "name": "python",
   "nbconvert_exporter": "python",
   "pygments_lexer": "ipython3",
   "version": "3.9.12"
  }
 },
 "nbformat": 4,
 "nbformat_minor": 5
}

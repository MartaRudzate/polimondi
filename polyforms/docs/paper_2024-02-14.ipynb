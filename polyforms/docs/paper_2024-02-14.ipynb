{
 "cells": [
  {
   "cell_type": "code",
   "execution_count": null,
   "id": "835e5ab4",
   "metadata": {},
   "outputs": [],
   "source": [
    "from polyforms.polyiamond import Polyiamond\n",
    "from polyforms.draw_scene import *\n",
    "from polyforms.n_gon import *\n",
    "\n",
    "pp = ['ACEDF', 'ACECEAEAC', 'ABCDEDEFAFAB']\n",
    "\n",
    "mylist_pp = [Polyiamond(a) for a in pp]\n",
    "\n",
    "offsets = [(0,0), (0,0), (-6,0)]\n",
    "\n",
    "scene = DrawScene(Align.BASELINE)\n",
    "for idx,poly in enumerate(mylist_pp):\n",
    "    scene.add_polyiamond(f'p{idx}', poly, (offsets[idx]))\n",
    "\n",
    "scene.pack()\n",
    "scene.show_grid()\n",
    "scene.set_size_in(11,5)"
   ]
  },
  {
   "cell_type": "code",
   "execution_count": null,
   "id": "ffc137e2",
   "metadata": {},
   "outputs": [],
   "source": [
    "set1 = [35, 33, 31, 29, 27, 25, 10, 8, 6, 4, 2]\n",
    "set2 = [34, 32, 23, 21, 19, 17, 15, 13, 11, 9, 7, 5, 3, 1]\n",
    "set3 = [30, 28, 26, 24, 22, 20, 18, 16, 14, 12]\n",
    "\n",
    "print(sum(set1))\n",
    "print(sum(set2))\n",
    "print(sum(set3))\n"
   ]
  },
  {
   "cell_type": "markdown",
   "id": "e14a25fe",
   "metadata": {},
   "source": [
    "**Proposition 5:**  \n",
    "Šajā piemērā vēlamies atrast tās $n$ vērtības, kurām eksistē tādi naturāli $i,j,k$, ka $i > j > k$; $i,k$ ir pāra skaitļi, $j$ ir nepāra skaitlis, un no viņiem var uzbūvēt virknītes kā redzams augšējā piemērā, kur $n=35$, $i = 30$, $j = 23$, $k = 10$."
   ]
  },
  {
   "cell_type": "code",
   "execution_count": null,
   "id": "cb9dbf89",
   "metadata": {},
   "outputs": [],
   "source": [
    "for n in range(27, 1000): \n",
    "    if n % 6 not in [3,5]: \n",
    "        continue \n",
    "    the_third = n*(n+1) // 6\n",
    "    for i in range(3,n):\n",
    "        if i % 2 != 0:\n",
    "             continue\n",
    "        for j in range(2,i):\n",
    "            if j % 2 != 1:\n",
    "                continue\n",
    "            for k in range(1,j):\n",
    "                if k % 2 != 0:\n",
    "                    continue                 \n",
    "                countA = ((n - j) // 2) * ((n+j+2) // 2)  + ((2+k) // 2) * (k // 2)\n",
    "                #if n == 35 and i == 30 and j == 23 and k == 10:\n",
    "                #    print(f'the_third = {the_third}, countA = {countA}') \n",
    "                if countA != the_third:\n",
    "                    continue\n",
    "                countE = ((i - k) // 2) * ((i+k+2) // 2)\n",
    "                if countE != the_third:\n",
    "                    continue\n",
    "                print(f'n={n}, ({i},{j},{k})')"
   ]
  },
  {
   "cell_type": "code",
   "execution_count": null,
   "id": "0c32faec",
   "metadata": {},
   "outputs": [],
   "source": []
  },
  {
   "cell_type": "code",
   "execution_count": null,
   "id": "c78d2588",
   "metadata": {},
   "outputs": [],
   "source": []
  }
 ],
 "metadata": {
  "kernelspec": {
   "display_name": "Python 3 (ipykernel)",
   "language": "python",
   "name": "python3"
  },
  "language_info": {
   "codemirror_mode": {
    "name": "ipython",
    "version": 3
   },
   "file_extension": ".py",
   "mimetype": "text/x-python",
   "name": "python",
   "nbconvert_exporter": "python",
   "pygments_lexer": "ipython3",
   "version": "3.9.12"
  }
 },
 "nbformat": 4,
 "nbformat_minor": 5
}

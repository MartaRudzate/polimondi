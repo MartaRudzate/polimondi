{
 "cells": [
  {
   "cell_type": "code",
   "execution_count": null,
   "id": "d42e548f",
   "metadata": {},
   "outputs": [],
   "source": [
    "from polyforms.perfect_seq import *\n",
    "\n",
    "sequences = PerfectSeq()\n",
    "pseq4_3_A = sequences.pseq['SEQ_4_3_A']\n",
    "print(\"template = {}\".format(pseq4_3_A.template))\n",
    "print(\"rules = {}\".format(pseq4_3_A.rules))\n",
    "for i in range(0,4): \n",
    "    print(pseq4_3_A.get(i))"
   ]
  },
  {
   "cell_type": "code",
   "execution_count": null,
   "id": "b34dac71",
   "metadata": {},
   "outputs": [],
   "source": [
    "from polyforms.perfect_seq import *\n",
    "from polyforms.polyiamond import Polyiamond\n",
    "from polyforms.draw_scene import *\n",
    "\n",
    "# Izveido punktiņu gramatiku \"pSequence\"\n",
    "pSequence = PSequence('ACAC.EDFDF.EACAC.DBF',[['AC.','DFDF.','AC.']])\n",
    "# Izdrukā pirmos 4 izvedamos stringus\n",
    "for i in range(0,4): \n",
    "    print(pSequence.get(i))\n",
    "\n",
    "# Izveido masīvu ar polimondiem\n",
    "pp = [Polyiamond(pSequence.get(i)) for i in range(0,4)]\n",
    "\n",
    "scene = DrawScene(Align.BASELINE)\n",
    "for idx,p in enumerate(pp): \n",
    "    scene.add_polyiamond(f'p{idx}', p)\n",
    "    \n",
    "scene.pack()\n",
    "scene.set_size_in(8,4)\n"
   ]
  },
  {
   "cell_type": "code",
   "execution_count": null,
   "id": "dd28e516",
   "metadata": {},
   "outputs": [],
   "source": []
  }
 ],
 "metadata": {
  "kernelspec": {
   "display_name": "Python 3 (ipykernel)",
   "language": "python",
   "name": "python3"
  },
  "language_info": {
   "codemirror_mode": {
    "name": "ipython",
    "version": 3
   },
   "file_extension": ".py",
   "mimetype": "text/x-python",
   "name": "python",
   "nbconvert_exporter": "python",
   "pygments_lexer": "ipython3",
   "version": "3.9.18"
  }
 },
 "nbformat": 4,
 "nbformat_minor": 5
}

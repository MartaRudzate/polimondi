{
 "cells": [
  {
   "cell_type": "markdown",
   "id": "48a37801",
   "metadata": {},
   "source": [
    "# Minimāls platums pie n=6, 14, 22, 30...\n",
    "\n",
    "Vai eksistē arī virknes locekļi pie $n=10, 18, 26$?"
   ]
  },
  {
   "cell_type": "code",
   "execution_count": null,
   "id": "78443dce",
   "metadata": {},
   "outputs": [],
   "source": [
    "from polyforms.polyiamond import Polyiamond\n",
    "from polyforms.draw_scene import *\n",
    "\n",
    "# n = 6, 14, 22, 30; max diameter\n",
    "mylist = ['ACEDFB', 'ABACEDEDEDFBAB', 'ABABACEDEDEDEDEDFBABAB', 'ABABABACEDEDEDEDEDEDEDFBABABAB']\n",
    "polygons = [Polyiamond(s) for s in mylist]\n",
    "scene = DrawScene(Align.BASELINE)\n",
    "\n",
    "offsets = [(0,0),(-20,0),(-60,0),(-150,0)]\n",
    "\n",
    "for idx,poly in enumerate(polygons):\n",
    "    scene.add_polyiamond(f'p{idx}', poly, offsets[idx])\n",
    "    \n",
    "scene.pack()\n",
    "#scene.show_grid()\n",
    "scene.set_size_in(16,6)"
   ]
  },
  {
   "cell_type": "code",
   "execution_count": null,
   "id": "545fc4c4",
   "metadata": {},
   "outputs": [],
   "source": [
    "mylist = ['ABABACEDEDEDEDEDFBABAB', 'ABABABDEDEDEDEFDCDFDEF', 'ABABABDEDEDEDEFDCEDEAC']\n",
    "polygons = [Polyiamond(s) for s in mylist]\n",
    "scene = DrawScene(Align.BASELINE)\n",
    "\n",
    "offsets = [(0,0),(-20,0),(-60,0),(-120,0)]\n",
    "\n",
    "for idx,poly in enumerate(polygons):\n",
    "    scene.add_polyiamond(f'p{idx}', poly, offsets[idx])\n",
    "    \n",
    "scene.pack()\n",
    "#scene.show_grid()\n",
    "scene.set_size_in(16,6)\n",
    "\n",
    "for p in polygons: \n",
    "    print(p.width())"
   ]
  },
  {
   "cell_type": "markdown",
   "id": "948faad7",
   "metadata": {},
   "source": [
    "# Minimāls platums pie n=16, 20, 24... "
   ]
  },
  {
   "cell_type": "code",
   "execution_count": null,
   "id": "45c69114",
   "metadata": {},
   "outputs": [],
   "source": [
    "mylist = ['ABABDEDEDEDEABAB', 'ABABDEDEDEDFABDC', 'ABABACEDEDEDEDEDFABC', 'ABABACEDEDEDFDECDEFE']\n",
    "polygons = [Polyiamond(s) for s in mylist]\n",
    "scene = DrawScene(Align.BASELINE)\n",
    "\n",
    "offsets = [(0,0),(-20,0),(-60,0),(-90,0)]\n",
    "\n",
    "for idx,poly in enumerate(polygons):\n",
    "    scene.add_polyiamond(f'p{idx}', poly, offsets[idx])\n",
    "    \n",
    "scene.pack()\n",
    "#scene.show_grid()\n",
    "scene.set_size_in(16,6)"
   ]
  },
  {
   "cell_type": "code",
   "execution_count": null,
   "id": "3e3d8f85",
   "metadata": {},
   "outputs": [],
   "source": [
    "mylist = ['ABABABFDEDEDEDEDEDBCDBDC', 'ABABABFDEDEDEDEDEDCBDBDB', 'ABABABFDEDEDEDEDEDCBDCAC']\n",
    "polygons = [Polyiamond(s) for s in mylist]\n",
    "scene = DrawScene(Align.BASELINE)\n",
    "\n",
    "offsets = [(0,0),(-20,0),(-50,0),(-90,0)]\n",
    "\n",
    "for idx,poly in enumerate(polygons):\n",
    "    scene.add_polyiamond(f'p{idx}', poly, offsets[idx])\n",
    "    \n",
    "scene.pack()\n",
    "#scene.show_grid()\n",
    "scene.set_size_in(16,6)"
   ]
  },
  {
   "cell_type": "code",
   "execution_count": null,
   "id": "fee53fe3",
   "metadata": {},
   "outputs": [],
   "source": [
    "# Platuma samazināšanās no 18 uz 19\n",
    "mylist = ['ABDFDBDECDFAFABFDF', 'ABDFDCDEACAEFABFDF', 'ABABAEDEDEDECECDBDB', 'ABABAEDEDEDECECDCAC']\n",
    "polygons = [Polyiamond(s) for s in mylist]\n",
    "scene = DrawScene(Align.BASELINE)\n",
    "\n",
    "offsets = [(0,0),(0,0),(-45,0),(-70,0)]\n",
    "\n",
    "for idx,poly in enumerate(polygons):\n",
    "    scene.add_polyiamond(f'p{idx}', poly, offsets[idx])\n",
    "    \n",
    "scene.pack()\n",
    "#scene.show_grid()\n",
    "scene.set_size_in(16,6)"
   ]
  },
  {
   "cell_type": "markdown",
   "id": "a822cb9d",
   "metadata": {},
   "source": [
    "# Minimālais platums pie n=23"
   ]
  },
  {
   "cell_type": "code",
   "execution_count": null,
   "id": "f5490b13",
   "metadata": {},
   "outputs": [],
   "source": [
    "mylist = ['ABABACEDEDEDEDEFABDCACB', 'ABABACEDEDEDEDEFACBDBAE', 'ABABACEDEDEDEDEFACBDBFB', \n",
    "          'ABABACEDEDEDEDFEABCDCAF', 'ABABACEDEDEDEDFEABCECBC', 'ABABACEDEDEDEDFEABDBDBC', \n",
    "          'ABABACEDEDEDEDFEACACDBC']\n",
    "\n",
    "polygons = [Polyiamond(s) for s in mylist]\n",
    "scene = DrawScene(Align.BASELINE)\n",
    "\n",
    "offsets = [(0,0),(-20,0),(-40,0), (-60,0)]\n",
    "\n",
    "for idx,poly in enumerate(polygons[0:4]):\n",
    "    scene.add_polyiamond(f'p{idx}', poly, offsets[idx])\n",
    "    \n",
    "scene.pack()\n",
    "#scene.show_grid()\n",
    "scene.set_size_in(16,6)\n",
    "\n"
   ]
  },
  {
   "cell_type": "code",
   "execution_count": null,
   "id": "8fbe122e",
   "metadata": {},
   "outputs": [],
   "source": [
    "offsets = [(0,0),(-20,0),(-40,0), (0,0)]\n",
    "\n",
    "scene = DrawScene(Align.BASELINE)\n",
    "for idx,poly in enumerate(polygons[4:]):\n",
    "    scene.add_polyiamond(f'p{idx}', poly, offsets[idx])\n",
    "    \n",
    "scene.pack()\n",
    "#scene.show_grid()\n",
    "scene.set_size_in(14,6)"
   ]
  },
  {
   "cell_type": "code",
   "execution_count": null,
   "id": "c598cea0",
   "metadata": {},
   "outputs": [],
   "source": []
  }
 ],
 "metadata": {
  "kernelspec": {
   "display_name": "Python 3 (ipykernel)",
   "language": "python",
   "name": "python3"
  },
  "language_info": {
   "codemirror_mode": {
    "name": "ipython",
    "version": 3
   },
   "file_extension": ".py",
   "mimetype": "text/x-python",
   "name": "python",
   "nbconvert_exporter": "python",
   "pygments_lexer": "ipython3",
   "version": "3.9.12"
  }
 },
 "nbformat": 4,
 "nbformat_minor": 5
}

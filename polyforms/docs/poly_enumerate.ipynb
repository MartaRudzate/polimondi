{
 "cells": [
  {
   "cell_type": "markdown",
   "id": "9d1e3168",
   "metadata": {},
   "source": [
    "# Polimondu pārlases demo"
   ]
  },
  {
   "cell_type": "markdown",
   "id": "8acb8415",
   "metadata": {},
   "source": [
    "**1. piemērs:** Izdrukā virzienu burtus perfektiem 7-polimondiem dažādos formātos."
   ]
  },
  {
   "cell_type": "code",
   "execution_count": null,
   "id": "90403582",
   "metadata": {},
   "outputs": [],
   "source": [
    "from polyforms.n_gon import *\n",
    "\n",
    "N = 7\n",
    "perm = list(range(N,0,-1))\n",
    "print_all_solutions(perm, Format.COMPACT, '')\n",
    "print_all_solutions(perm, Format.LETTERS, '')\n",
    "print_all_solutions(perm, Format.DESCARTES, '')"
   ]
  },
  {
   "cell_type": "markdown",
   "id": "c78d2728",
   "metadata": {},
   "source": [
    "**2. piemērs:** Uzzīmē visus perfektos 13-polimondus, kas sākas ar virkni `ABCDEF`.  \n",
    "* Pirmajā zīmējumā redzama \"nulles virkne\" 9 burtu garumā: `ABCDEFBFD`.\n",
    "* Otrajā un trešajā zīmējumā redzama \"locīšanas simetrija\" -- iespēja pārtaisīt vienu polimondu par citu, apsviežot ap simetrijas asi uz otru pusi dažas malas."
   ]
  },
  {
   "cell_type": "code",
   "execution_count": null,
   "id": "54be01f9",
   "metadata": {},
   "outputs": [],
   "source": [
    "from polyforms.polyiamond import Polyiamond\n",
    "from polyforms.draw_scene import *\n",
    "\n",
    "mylist = get_all_solutions(list(range(13,0,-1)), Format.COMPACT)\n",
    "mylist = [item for item in mylist if item.startswith('ABCDEF')]\n",
    "print(f'mylist = {mylist}')\n",
    "\n",
    "polygons = [Polyiamond(s) for s in mylist]\n",
    "scene = DrawScene(Align.BASELINE)\n",
    "\n",
    "for idx,poly in enumerate(polygons):\n",
    "    scene.add_polyiamond(f'p{idx}', poly)\n",
    "    \n",
    "scene.pack()\n",
    "scene.show_grid()\n",
    "scene.set_size_in(15,5)"
   ]
  },
  {
   "cell_type": "code",
   "execution_count": null,
   "id": "9dd511e7",
   "metadata": {},
   "outputs": [],
   "source": [
    "# Tas pats, bet ar 11-polimondiem\n",
    "mylist = ['ABCDEFDEFAB','ABCDEFDFEAC']\n",
    "polygons = [Polyiamond(s) for s in mylist]\n",
    "scene = DrawScene(Align.BASELINE)\n",
    "\n",
    "for idx,poly in enumerate(polygons):\n",
    "    scene.add_polyiamond(f'p{idx}', poly)\n",
    "    \n",
    "scene.pack()\n",
    "scene.show_grid()\n",
    "scene.set_size_in(8,3.5)"
   ]
  },
  {
   "cell_type": "code",
   "execution_count": null,
   "id": "d5caedb0",
   "metadata": {},
   "outputs": [],
   "source": [
    "# n = 8, 12, 16, 20, 24; max diameter\n",
    "mylist = ['ABDEDEAB', 'ABDEDEFBACBC', 'ABABDEDEDEDEABAB', 'ABABDEDEDEDEABFBACBC', 'ABABABDEDEDEDEDEDEABABAB']\n",
    "polygons = [Polyiamond(s) for s in mylist]\n",
    "scene = DrawScene(Align.BASELINE)\n",
    "\n",
    "offsets = [0,0,0,0,-20]\n",
    "\n",
    "for idx,poly in enumerate(polygons):\n",
    "    scene.add_polyiamond(f'p{idx}', poly, (offsets[idx],0))\n",
    "    \n",
    "scene.pack()\n",
    "#scene.show_grid()\n",
    "scene.set_size_in(16,4)"
   ]
  },
  {
   "cell_type": "code",
   "execution_count": null,
   "id": "c83358e9",
   "metadata": {},
   "outputs": [],
   "source": [
    "# n = 9, 13, 17, 21; max diameter\n",
    "mylist = ['ABFDEDCDC', 'ACDCDFAFAFEDF', 'ACDCDCEFAFAFAFAEF', 'ABABDEDEDEDEABFBACBC']\n",
    "polygons = [Polyiamond(s) for s in mylist]\n",
    "scene = DrawScene(Align.BASELINE)\n",
    "\n",
    "for idx,poly in enumerate(polygons):\n",
    "    scene.add_polyiamond(f'p{idx}', poly)\n",
    "    \n",
    "scene.pack()\n",
    "#scene.show_grid()\n",
    "scene.set_size_in(16,4)"
   ]
  },
  {
   "cell_type": "code",
   "execution_count": null,
   "id": "b0458913",
   "metadata": {},
   "outputs": [],
   "source": [
    "# n = 10, 14, 18, 22; max diameter\n",
    "mylist = ['ABFDEDCDBF', 'ACDCDEFAFAFABC', 'ABABDEDEDECDFAFABC', 'ABDEDEDEDFBABABABABACB']\n",
    "polygons = [Polyiamond(s) for s in mylist]\n",
    "scene = DrawScene(Align.BASELINE)\n",
    "\n",
    "offsets = [0, 10, -10, 0]\n",
    "\n",
    "for idx,poly in enumerate(polygons):\n",
    "    scene.add_polyiamond(f'p{idx}', poly, (offsets[idx],0))\n",
    "    \n",
    "scene.pack()\n",
    "#scene.show_grid()\n",
    "scene.set_size_in(16,4)"
   ]
  },
  {
   "cell_type": "code",
   "execution_count": null,
   "id": "d441f16b",
   "metadata": {},
   "outputs": [],
   "source": [
    "# n = 11, 15, 19, 23; max diameter\n",
    "mylist = ['ACDCEAFEFAB', 'ABAEDEDEDBACBCB', 'ABABAEDEDEDECECDCAC', 'ABABAEDEDEDECDEDBABABAC']\n",
    "polygons = [Polyiamond(s) for s in mylist]\n",
    "scene = DrawScene(Align.BASELINE)\n",
    "\n",
    "offsets = [0, 10, -10, 0]\n",
    "\n",
    "for idx,poly in enumerate(polygons):\n",
    "    scene.add_polyiamond(f'p{idx}', poly, (offsets[idx],0))\n",
    "    \n",
    "scene.pack()\n",
    "#scene.show_grid()\n",
    "scene.set_size_in(16,4)"
   ]
  },
  {
   "cell_type": "code",
   "execution_count": null,
   "id": "706f0e13",
   "metadata": {},
   "outputs": [],
   "source": [
    "# 8, 12, 16, 20, 24-polyiamonds, minimum diameter\n",
    "mylist = ['ACECEFAC', 'ABDFDBDEAEDF', 'ABDCEAFDBDEAEFDE', 'ACACECEAECEAFDBDFEAE', 'ABCDEABFDFDBDFDBDFEFAFDE']\n",
    "polygons = [Polyiamond(s) for s in mylist]\n",
    "scene = DrawScene(Align.BASELINE)\n",
    "\n",
    "for idx,poly in enumerate(polygons):\n",
    "    scene.add_polyiamond(f'p{idx}', poly)\n",
    "    \n",
    "scene.pack()\n",
    "\n",
    "for idx in range(len(mylist)):\n",
    "    offset = scene.get_offset_tg(f'p{idx}')\n",
    "    (diam, i_max, j_max) = polygons[idx].diameter()\n",
    "    v_i = (polygons[idx].get_vertices()[i_max]+offset).get_xy()\n",
    "    v_j = (polygons[idx].get_vertices()[j_max]+offset).get_xy()\n",
    "\n",
    "    scene.ax.plot(*v_i, marker='o', color='g')\n",
    "    scene.ax.plot(*v_j, marker='o', color='g')\n",
    "    scene.ax.plot([v_i[0], v_j[0]], [v_i[1], v_j[1]])\n",
    "\n",
    "scene.set_size_in(19,5)"
   ]
  },
  {
   "cell_type": "code",
   "execution_count": null,
   "id": "50242019",
   "metadata": {},
   "outputs": [],
   "source": [
    "# 9, 13, 17, 21-polyiamonds, minimum diameter\n",
    "mylist = ['ACECEAEAC', 'ACDEFBDBAFDFE', 'ABDFDBCEAECEAEFDE', 'ABDFDCACACEDFDFEFAFEF']\n",
    "polygons = [Polyiamond(s) for s in mylist]\n",
    "scene = DrawScene(Align.BASELINE)\n",
    "\n",
    "offsets = [0, 0, 0, 0]\n",
    "\n",
    "for idx,poly in enumerate(polygons):\n",
    "    scene.add_polyiamond(f'p{idx}', poly, (offsets[idx],0))\n",
    "    \n",
    "scene.pack()\n",
    "\n",
    "for idx in range(len(mylist)):\n",
    "    offset = scene.get_offset_tg(f'p{idx}')\n",
    "    (diam, i_max, j_max) = polygons[idx].diameter()\n",
    "    v_i = (polygons[idx].get_vertices()[i_max]+offset).get_xy()\n",
    "    v_j = (polygons[idx].get_vertices()[j_max]+offset).get_xy()\n",
    "\n",
    "    scene.ax.plot(*v_i, marker='o', color='g')\n",
    "    scene.ax.plot(*v_j, marker='o', color='g')\n",
    "    scene.ax.plot([v_i[0], v_j[0]], [v_i[1], v_j[1]])\n",
    "\n",
    "scene.set_size_in(16,4)"
   ]
  },
  {
   "cell_type": "code",
   "execution_count": null,
   "id": "ebf28e50",
   "metadata": {},
   "outputs": [],
   "source": [
    "# 10, 14, 18, 22 - polyiamonds minimum diameter\n",
    "mylist = ['ACBDFEDFEF', 'ACEDFABDFDCACB', 'ABDBDFDFBFEDBDFDFE', 'ABCDEABFDFDCDFAECEFAEF']\n",
    "polygons = [Polyiamond(s) for s in mylist]\n",
    "scene = DrawScene(Align.BASELINE)\n",
    "\n",
    "for idx,poly in enumerate(polygons):\n",
    "    scene.add_polyiamond(f'p{idx}', poly)\n",
    "    \n",
    "scene.pack()\n",
    "\n",
    "for idx in range(len(mylist)):\n",
    "    offset = scene.get_offset_tg(f'p{idx}')\n",
    "    (diam, i_max, j_max) = polygons[idx].diameter()\n",
    "    v_i = (polygons[idx].get_vertices()[i_max]+offset).get_xy()\n",
    "    v_j = (polygons[idx].get_vertices()[j_max]+offset).get_xy()\n",
    "\n",
    "    scene.ax.plot(*v_i, marker='o', color='g')\n",
    "    scene.ax.plot(*v_j, marker='o', color='g')\n",
    "    scene.ax.plot([v_i[0], v_j[0]], [v_i[1], v_j[1]])\n",
    "\n",
    "scene.set_size_in(19,7)"
   ]
  },
  {
   "cell_type": "code",
   "execution_count": null,
   "id": "9e3d1af1",
   "metadata": {},
   "outputs": [],
   "source": [
    "# 11, 15, 19, 23-polimondi ar minimālu diametru\n",
    "mylist = ['ACDEACAEFDF', 'ABDFDBCDFEAEFDF', 'ABDBDFDFBFDFDBDFDFE', 'ABCDEACAEAECEAECDEAEDFE']\n",
    "polygons = [Polyiamond(s) for s in mylist]\n",
    "scene = DrawScene(Align.BASELINE)\n",
    "\n",
    "offsets = [0, 0, 0, 0]\n",
    "\n",
    "for idx,poly in enumerate(polygons):\n",
    "    scene.add_polyiamond(f'p{idx}', poly, (offsets[idx],0))\n",
    "    \n",
    "scene.pack()\n",
    "\n",
    "for idx in range(len(mylist)):\n",
    "    offset = scene.get_offset_tg(f'p{idx}')\n",
    "    (diam, i_max, j_max) = polygons[idx].diameter()\n",
    "    v_i = (polygons[idx].get_vertices()[i_max]+offset).get_xy()\n",
    "    v_j = (polygons[idx].get_vertices()[j_max]+offset).get_xy()\n",
    "\n",
    "    scene.ax.plot(*v_i, marker='o', color='g')\n",
    "    scene.ax.plot(*v_j, marker='o', color='g')\n",
    "    scene.ax.plot([v_i[0], v_j[0]], [v_i[1], v_j[1]])\n",
    "\n",
    "\n",
    "scene.set_size_in(16,4)"
   ]
  },
  {
   "cell_type": "code",
   "execution_count": null,
   "id": "5cda96e7",
   "metadata": {},
   "outputs": [],
   "source": [
    "# 8, 12, 16, 20, 24-polimondi ar minimālu platumu\n",
    "mylist = ['ACDEAEAC', 'ACBDEDFEAFAB', 'ACBCEDEDFAFAFEAB', 'ABCDCDEFEFEAFABCACAB']\n",
    "polygons = [Polyiamond(s) for s in mylist]\n",
    "scene = DrawScene(Align.BASELINE)\n",
    "\n",
    "offsets = [(0,0), (0,0), (0,0), (0,0)]\n",
    "\n",
    "for idx,poly in enumerate(polygons):\n",
    "    scene.add_polyiamond(f'p{idx}', poly, offsets[idx])\n",
    "    \n",
    "scene.pack()\n",
    "scene.set_size_in(14,6)\n",
    "\n",
    "\n"
   ]
  },
  {
   "cell_type": "code",
   "execution_count": null,
   "id": "54f446da",
   "metadata": {},
   "outputs": [],
   "source": [
    "# 9, 13, 17, 21-polimondi ar minimālu platumu\n",
    "mylist = ['ACEDEABAC', 'ABCDCEFEFEFAB', 'ACBCDEDEFAEAFAFAB']\n",
    "polygons = [Polyiamond(s) for s in mylist]\n",
    "scene = DrawScene(Align.BASELINE)\n",
    "\n",
    "offsets = [(0,0), (0,0), (0,0)]\n",
    "\n",
    "for idx,poly in enumerate(polygons):\n",
    "    scene.add_polyiamond(f'p{idx}', poly, offsets[idx])\n",
    "    \n",
    "scene.pack()\n",
    "scene.set_size_in(11,6)"
   ]
  },
  {
   "cell_type": "code",
   "execution_count": null,
   "id": "8c222e99",
   "metadata": {},
   "outputs": [],
   "source": [
    "# 10, 14, 18, 22-polimondi ar minimālu platumu\n",
    "mylist = ['ABCDEFDFEF', 'ABCDCEFEFEFBAC', 'ABFEFEDCDCBDCABABC']\n",
    "polygons = [Polyiamond(s) for s in mylist]\n",
    "scene = DrawScene(Align.BASELINE)\n",
    "\n",
    "offsets = [(0,0), (0,0), (-5,20)]\n",
    "\n",
    "for idx,poly in enumerate(polygons):\n",
    "    scene.add_polyiamond(f'p{idx}', poly, offsets[idx])\n",
    "    \n",
    "scene.pack()\n",
    "scene.set_size_in(16,6)"
   ]
  },
  {
   "cell_type": "code",
   "execution_count": null,
   "id": "a7b928a0",
   "metadata": {},
   "outputs": [],
   "source": [
    "# 11, 15, 19, 23-polimondi ar minimālu platumu\n",
    "mylist = ['ABCDEFDEFAB', 'ACBCEDEFDFAFAFB', 'ABCDCDEFEFEFABABACB']\n",
    "polygons = [Polyiamond(s) for s in mylist]\n",
    "scene = DrawScene(Align.BASELINE)\n",
    "\n",
    "offsets = [0, 5, 0]\n",
    "\n",
    "for idx,poly in enumerate(polygons):\n",
    "    scene.add_polyiamond(f'p{idx}', poly, (offsets[idx],0))\n",
    "    \n",
    "scene.pack()\n",
    "scene.set_size_in(13,7)"
   ]
  },
  {
   "cell_type": "code",
   "execution_count": null,
   "id": "999c1463",
   "metadata": {},
   "outputs": [],
   "source": []
  }
 ],
 "metadata": {
  "kernelspec": {
   "display_name": "Python 3 (ipykernel)",
   "language": "python",
   "name": "python3"
  },
  "language_info": {
   "codemirror_mode": {
    "name": "ipython",
    "version": 3
   },
   "file_extension": ".py",
   "mimetype": "text/x-python",
   "name": "python",
   "nbconvert_exporter": "python",
   "pygments_lexer": "ipython3",
   "version": "3.9.12"
  }
 },
 "nbformat": 4,
 "nbformat_minor": 5
}

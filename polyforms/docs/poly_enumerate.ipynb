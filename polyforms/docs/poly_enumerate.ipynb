{
 "cells": [
  {
   "cell_type": "markdown",
   "id": "9d1e3168",
   "metadata": {},
   "source": [
    "# Polimondu pārlases demo"
   ]
  },
  {
   "cell_type": "markdown",
   "id": "8acb8415",
   "metadata": {},
   "source": [
    "**1. piemērs:** Izdrukā virzienu burtus perfektiem 7-polimondiem dažādos formātos."
   ]
  },
  {
   "cell_type": "code",
   "execution_count": null,
   "id": "90403582",
   "metadata": {},
   "outputs": [],
   "source": [
    "from polyforms.n_gon import *\n",
    "\n",
    "N = 7\n",
    "perm = list(range(N,0,-1))\n",
    "print_all_solutions(perm, Format.COMPACT, '')\n",
    "print_all_solutions(perm, Format.LETTERS, '')\n",
    "print_all_solutions(perm, Format.DESCARTES, '')"
   ]
  },
  {
   "cell_type": "markdown",
   "id": "c78d2728",
   "metadata": {},
   "source": [
    "**2. piemērs:** Uzzīmē visus perfektos 13-polimondus, kas sākas ar virkni `ABCDEF`.  \n",
    "* Pirmajā zīmējumā redzama \"nulles virkne\" 9 burtu garumā: `ABCDEFBFD`.\n",
    "* Otrajā un trešajā zīmējumā redzama \"locīšanas simetrija\" -- iespēja pārtaisīt vienu polimondu par citu, apsviežot ap simetrijas asi uz otru pusi dažas malas."
   ]
  },
  {
   "cell_type": "code",
   "execution_count": null,
   "id": "54be01f9",
   "metadata": {},
   "outputs": [],
   "source": [
    "from polyforms.polyiamond import Polyiamond\n",
    "from polyforms.draw_scene import *\n",
    "\n",
    "mylist = get_all_solutions(list(range(13,0,-1)), Format.COMPACT)\n",
    "mylist = [item for item in mylist if item.startswith('ABCDEF')]\n",
    "print(f'mylist = {mylist}')\n",
    "\n",
    "polygons = [Polyiamond(s) for s in mylist]\n",
    "scene = DrawScene(Align.BASELINE)\n",
    "\n",
    "for idx,poly in enumerate(polygons):\n",
    "    scene.add_polyiamond(f'p{idx}', poly)\n",
    "    \n",
    "scene.pack()\n",
    "scene.show_grid()\n",
    "scene.set_size_in(15,5)"
   ]
  },
  {
   "cell_type": "code",
   "execution_count": null,
   "id": "9dd511e7",
   "metadata": {},
   "outputs": [],
   "source": [
    "# Tas pats, bet ar 11-polimondiem\n",
    "mylist = ['ABCDEFDEFAB','ABCDEFDFEAC']\n",
    "polygons = [Polyiamond(s) for s in mylist]\n",
    "scene = DrawScene(Align.BASELINE)\n",
    "\n",
    "for idx,poly in enumerate(polygons):\n",
    "    scene.add_polyiamond(f'p{idx}', poly)\n",
    "    \n",
    "scene.pack()\n",
    "scene.show_grid()\n",
    "scene.set_size_in(8,3.5)"
   ]
  },
  {
   "cell_type": "code",
   "execution_count": null,
   "id": "d5caedb0",
   "metadata": {},
   "outputs": [],
   "source": []
  }
 ],
 "metadata": {
  "kernelspec": {
   "display_name": "Python 3 (ipykernel)",
   "language": "python",
   "name": "python3"
  },
  "language_info": {
   "codemirror_mode": {
    "name": "ipython",
    "version": 3
   },
   "file_extension": ".py",
   "mimetype": "text/x-python",
   "name": "python",
   "nbconvert_exporter": "python",
   "pygments_lexer": "ipython3",
   "version": "3.9.12"
  }
 },
 "nbformat": 4,
 "nbformat_minor": 5
}

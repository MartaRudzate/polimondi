{
 "cells": [
  {
   "cell_type": "markdown",
   "id": "2437a1b2",
   "metadata": {},
   "source": [
    "# Induktīvi turpināmu konstrukciju meklēšana\n",
    "\n",
    "Vairāki perfekto polimondu virkņu konstruēšanas uzdevumi paredz atfiltrēt tādus polimondus, kam virzienu burtu virknīti var sadalīt vairākos fragmentos tā, lai tur (atbilstoši mums zināmo induktīvo konstrukciju soļiem) varētu iespraust jaunus fragmentus. Šajā \"notebook\" apskatīsim vairākus piemērus:  \n",
    "\n",
    "* Nulles virkņu meklēšana -- t.i. tādas polimondos sastopamas virknes $x$, kam $p(x) = (0,0,0)$. \n",
    "* Virknes $uvwxy$, kur $v$ un $x$ varētu iespraust ar bezkonteksta gramatiku ($uvwxy$, $uv^2wx^2y$, $uv^3wx^3y$, $\\ldots$). Šādas virknes noteikti apmierina nosacījumu $p(x) = 3p(v)$ un vēl divus citus lineārus vienādojumus. \n",
    "* Virknes, kur divos dažādos veidos var veikt pāreju $x \\rightarrow x + 6$."
   ]
  },
  {
   "cell_type": "markdown",
   "id": "46b1be0b",
   "metadata": {},
   "source": [
    "**1. piemērs:**\n",
    "  Virzienu vektoru definīcijas, piemērs ar parasto summu $p(\\mathtt{ABCDEF})$ un dilstošo summu $g(\\mathtt{ABCDEF})$. "
   ]
  },
  {
   "cell_type": "code",
   "execution_count": null,
   "id": "16466d37",
   "metadata": {},
   "outputs": [],
   "source": [
    "from polyforms.inductive_splits import InductiveSplits\n",
    "from polyforms.point_tg import PointTg, DIRECTIONS\n",
    "\n",
    "print('p(ABCDEF) = {}'.format(InductiveSplits.p('ABCDEF')))\n",
    "print('g(ABCDEF) = {}'.format(InductiveSplits.g('ABCDEF')))\n",
    "\n",
    "directions = ['A', 'B', 'C', 'D', 'E', 'F']\n",
    "for dir in directions: \n",
    "    print('{} -> {}'.format(dir, DIRECTIONS[dir]))"
   ]
  },
  {
   "cell_type": "markdown",
   "id": "449d0c32",
   "metadata": {},
   "source": [
    "**2.piemērs:** Uzzīmēt tabuliņu ar dažām parastās summas un dilstošās sumas vērtībām. "
   ]
  },
  {
   "cell_type": "code",
   "execution_count": null,
   "id": "1c4bf8ac",
   "metadata": {},
   "outputs": [],
   "source": [
    "from tabulate import tabulate\n",
    "from IPython.display import display, Markdown\n",
    "\n",
    "words = ['ACEDF', 'ABCDEF', 'ACDEFAC', 'ACDEFBF', 'ACECEAEAC']\n",
    "\n",
    "# Prepare data\n",
    "data = [[f'`{w}`', InductiveSplits.p(w), InductiveSplits.g(w)] for w in words]\n",
    "\n",
    "# Define headers\n",
    "headers = ['$w$', '$p(w)$', '$g(w)$']\n",
    "\n",
    "# Create table\n",
    "table = tabulate(data, headers, tablefmt=\"pipe\")\n",
    "\n",
    "# Print the table\n",
    "# print(table)\n",
    "display(Markdown(table))"
   ]
  },
  {
   "cell_type": "markdown",
   "id": "ffb6bf51",
   "metadata": {},
   "source": [
    "**3. piemērs:** Parāda tos 13-polimondus, kuriem $p(x) = (0,0,0)$, t.i. visiem virzienu burtiem atbilstošā vienības vektoru summa ir nulles vektors. Tas ir filtrēšanas uzdevuma piemērs; nav nekas zināms par polimondiem, kuru virzienu vektori veido nulles virkni."
   ]
  },
  {
   "cell_type": "code",
   "execution_count": null,
   "id": "203367e2",
   "metadata": {},
   "outputs": [],
   "source": [
    "ind_split = InductiveSplits(source = 'perfect_13.txt')\n",
    "sequences = ind_split.read_list()\n",
    "print(f'13-polimondu kopskaits: {len(sequences)}')\n",
    "results = []\n",
    "for seq in sequences: \n",
    "    if InductiveSplits.p(seq) == PointTg(0,0,0):\n",
    "        results.append(seq)\n",
    "results_count = len(results)\n",
    "print(f'13-polimondu skaits, kam p(x) = (0,0,0) -- kopskaits ir {results_count}')\n",
    "for j in range(results_count//4):\n",
    "    print(results[4*j:4*j+4])\n",
    "if results_count % 4 != 0: \n",
    "    print(results[4*(results_count//4):])\n",
    "    \n"
   ]
  },
  {
   "cell_type": "code",
   "execution_count": null,
   "id": "152e14f0",
   "metadata": {},
   "outputs": [],
   "source": [
    "from polyforms.draw_scene import *\n",
    "from polyforms.perfect_seq import *\n",
    "from polyforms.polyiamond import Polyiamond\n",
    "from polyforms.point_tg import *\n",
    "import numpy as np\n",
    "\n",
    "offsets = [0, 5, 5, 5, 0, 0, 0, -10,  0, 10, 10, 20,  0, 5, 10, 15]\n",
    "polygons = [Polyiamond(s) for s in results]\n",
    "\n",
    "for j in range(0,4):\n",
    "    scene = DrawScene(Align.BASELINE)\n",
    "    for i in range(4*j,4*j+4):\n",
    "        scene.add_polyiamond(f'p{i}', polygons[i], (offsets[i], 0))\n",
    "    scene.pack()\n",
    "    scene.set_size_in(10,3)"
   ]
  },
  {
   "cell_type": "code",
   "execution_count": null,
   "id": "0762fec8",
   "metadata": {},
   "outputs": [],
   "source": [
    "scene = DrawScene(Align.BASELINE)\n",
    "\n",
    "S = 'CBAFEFEDBDBCBAFEFEDB'\n",
    "sides = list(zip(range(50, 50-len(S), -1), list(S)))\n",
    "p = Polyiamond(sides)\n",
    "scene.add_polyiamond('p', p)\n",
    "scene.pack()\n",
    "scene.set_size_in(2,6)"
   ]
  },
  {
   "cell_type": "code",
   "execution_count": null,
   "id": "745e873a",
   "metadata": {},
   "outputs": [],
   "source": [
    "scene = DrawScene(Align.BASELINE)\n",
    "\n",
    "S = 'CBAFEFEDCBCBAFEFEDCBCB'\n",
    "sides = list(zip(range(50, 50-len(S), -1), list(S)))\n",
    "p = Polyiamond(sides)\n",
    "scene.add_polyiamond('p', p)\n",
    "scene.pack()\n",
    "scene.set_size_in(2,6)"
   ]
  },
  {
   "cell_type": "code",
   "execution_count": null,
   "id": "349ef5ef",
   "metadata": {},
   "outputs": [],
   "source": [
    "result = Polyiamond.find_fragments_cfg('ABCDEFDEAFBDB')\n",
    "# for kk,vv in result.items():\n",
    "#    print('{}: {}'.format(kk,vv))\n",
    "print(result)"
   ]
  },
  {
   "cell_type": "code",
   "execution_count": null,
   "id": "840e1f28",
   "metadata": {},
   "outputs": [],
   "source": [
    "from polyforms.inductive_splits import InductiveSplits\n",
    "\n",
    "splits = InductiveSplits('perfect_15.txt')\n",
    "all_sides = splits.read_list()\n",
    "all_results = []\n",
    "for sides in all_sides:\n",
    "    result = Polyiamond.find_fragments_cfg(sides)\n",
    "    if result != []:\n",
    "        all_results.append(result)\n",
    "print(all_results)"
   ]
  },
  {
   "cell_type": "code",
   "execution_count": null,
   "id": "efffb1aa",
   "metadata": {},
   "outputs": [],
   "source": [
    "pp = ['ACABCEDEFEDEFAC', 'ACABCEDEFEDEFBF', 'ACAFECEFDCDCBCB']\n",
    "scene2 = DrawScene(Align.BASELINE)\n",
    "for idx,p in enumerate(pp): \n",
    "    scene2.add_polyiamond('p{}'.format(idx), Polyiamond(p))\n",
    "    # print('{}, {}'.format(idx, p.sides))\n",
    "    \n",
    "scene2.pack()\n"
   ]
  },
  {
   "cell_type": "code",
   "execution_count": null,
   "id": "763f48da",
   "metadata": {},
   "outputs": [],
   "source": [
    "pp = ['ACABCEDEFEDEFAC', 'ACABCEABCEDEFEDEFEDEFAC', 'ACABCEABCEABCEDEFEDEFEDEFEDEFAC']\n",
    "scene3 = DrawScene(Align.BASELINE)\n",
    "for idx,p in enumerate(pp): \n",
    "    scene3.add_polyiamond('p{}'.format(idx), Polyiamond(p))\n",
    "    # print('{}, {}'.format(idx, p.sides))\n",
    "    \n",
    "scene3.pack()\n",
    "scene3.set_size_in(12,8)"
   ]
  },
  {
   "cell_type": "code",
   "execution_count": null,
   "id": "ef627b9b",
   "metadata": {},
   "outputs": [],
   "source": [
    "pp = ['ACAFECEFDCDCBCB', 'ACAFECAFECEFDCDCBCDCBCB', 'ACAFECAFECAFECEFDCDCBCDCBCDCBCB']\n",
    "scene3 = DrawScene(Align.BASELINE)\n",
    "for idx,p in enumerate(pp): \n",
    "    scene3.add_polyiamond('p{}'.format(idx), Polyiamond(p))\n",
    "    # print('{}, {}'.format(idx, p.sides))\n",
    "    \n",
    "scene3.pack()\n",
    "scene3.set_size_in(12,8)"
   ]
  },
  {
   "cell_type": "code",
   "execution_count": null,
   "id": "568530b0",
   "metadata": {},
   "outputs": [],
   "source": [
    "pp = ['ACAFECEFDCDCBCB', 'ACAFECAFECEFDCDCBCDCBCB', 'ACAFECAFECAFECEFDCDCBCDCBCDCBCB']\n",
    "scene3 = DrawScene(Align.BASELINE)\n",
    "for idx,p in enumerate(pp): \n",
    "    scene3.add_polyiamond('p{}'.format(idx), Polyiamond(p))\n",
    "    # print('{}, {}'.format(idx, p.sides))\n",
    "    \n",
    "scene3.pack()\n",
    "scene3.set_size_in(12,8)"
   ]
  },
  {
   "cell_type": "code",
   "execution_count": null,
   "id": "f3ffad48",
   "metadata": {},
   "outputs": [],
   "source": [
    "from polyforms.inductive_splits import InductiveSplits\n",
    "\n",
    "splits = InductiveSplits('perfect_17.txt')\n",
    "all_sides = splits.read_list()\n",
    "all_results = []\n",
    "for sides in all_sides:\n",
    "    result = Polyiamond.find_fragments_cfg(sides)\n",
    "    if result != []:\n",
    "        all_results.append(result)\n",
    "print(all_results)"
   ]
  },
  {
   "cell_type": "code",
   "execution_count": null,
   "id": "35551fce",
   "metadata": {},
   "outputs": [],
   "source": [
    "#('ACEC', 'ECEA', 'EAF', 'ABCB', 'DB')\n",
    "pp = ['ACECECEAEAFABCBDB', 'ACECECEAECEAEAFABCBABCBDB', 'ACECECEAECEAECEAEAFABCBABCBABCBDB']\n",
    "scene3 = DrawScene(Align.BASELINE)\n",
    "for idx,p in enumerate(pp): \n",
    "    scene3.add_polyiamond('p{}'.format(idx), Polyiamond(p))\n",
    "    # print('{}, {}'.format(idx, p.sides))\n",
    "    \n",
    "scene3.pack()\n",
    "\n",
    "scene3.highlight('p0', [4, 5, 6, 7], '#DC143C')\n",
    "scene3.highlight('p0', [11, 12, 13, 14], '#DC143C')\n",
    "\n",
    "\n",
    "scene3.highlight('p1', [4, 5, 6, 7], '#DC143C')\n",
    "scene3.highlight('p1', [8, 9, 10, 11], '#2D9BF0')\n",
    "scene3.highlight('p1', [15, 16, 17, 18], '#DC143C')\n",
    "scene3.highlight('p1', [19, 20, 21, 22], '#2D9BF0')\n",
    "\n",
    "scene3.highlight('p2', [4, 5, 6, 7], '#DC143C')\n",
    "scene3.highlight('p2', [8, 9, 10, 11], '#2D9BF0')\n",
    "scene3.highlight('p2', [12, 13, 14, 15], '#DC143C')\n",
    "scene3.highlight('p2', [19, 20, 21, 22], '#DC143C')\n",
    "scene3.highlight('p2', [23, 24, 25, 26], '#2D9BF0')\n",
    "scene3.highlight('p2', [27, 28, 29, 30], '#DC143C')\n",
    "\n",
    "scene3.set_size_in(16,6)"
   ]
  },
  {
   "cell_type": "code",
   "execution_count": null,
   "id": "7a3a3b06",
   "metadata": {},
   "outputs": [],
   "source": [
    "# ('AB', 'CAEA', 'FDE', 'DEDC', 'DCDC')\n",
    "pp = ['ABCAEAFDEDEDCDCDC', 'ABCAEACAEAFDEDEDCDEDCDCDC', 'ABCAEACAEACAEAFDEDEDCDEDCDEDCDCDC']\n",
    "\n",
    "scene3 = DrawScene(Align.BASELINE)\n",
    "for idx,p in enumerate(pp): \n",
    "    scene3.add_polyiamond('p{}'.format(idx), Polyiamond(p))\n",
    "scene3.pack()\n",
    "scene3.set_size_in(16,5)"
   ]
  },
  {
   "cell_type": "code",
   "execution_count": null,
   "id": "df30de16",
   "metadata": {},
   "outputs": [],
   "source": []
  }
 ],
 "metadata": {
  "kernelspec": {
   "display_name": "Python 3 (ipykernel)",
   "language": "python",
   "name": "python3"
  },
  "language_info": {
   "codemirror_mode": {
    "name": "ipython",
    "version": 3
   },
   "file_extension": ".py",
   "mimetype": "text/x-python",
   "name": "python",
   "nbconvert_exporter": "python",
   "pygments_lexer": "ipython3",
   "version": "3.9.12"
  }
 },
 "nbformat": 4,
 "nbformat_minor": 5
}

{
 "cells": [
  {
   "cell_type": "markdown",
   "id": "165230b4",
   "metadata": {},
   "source": [
    "# Polyiamonds in 2D coordinates\n",
    "\n",
    "Use regular 2D coordinates to show polyiamonds and some related objects."
   ]
  },
  {
   "cell_type": "markdown",
   "id": "148bd4f6",
   "metadata": {},
   "source": [
    "**Example 1:** Show an acute-angle polyiamond with 51 sides (it is alphabetically first among all the 51-sided polyiamonds)."
   ]
  },
  {
   "cell_type": "code",
   "execution_count": null,
   "id": "51cbaf78",
   "metadata": {},
   "outputs": [],
   "source": [
    "import matplotlib.pyplot as plt\n",
    "import matplotlib.patches as patches\n",
    "from polyforms.polyiamond import Polyiamond\n",
    "from polyforms.point_tg import *\n",
    "\n",
    "STEP = 20\n",
    "def mul_step(arg):\n",
    "    return STEP*(arg // STEP)\n",
    "\n",
    "\n",
    "dir = \"ACACACACAEAEAEAEAECECECECEAECECECECECECECACAEACAEAC\"\n",
    "llen = range(len(dir),0,-1)\n",
    "p1 = Polyiamond(list(zip(llen, list(dir))))\n",
    "vertices2d = p1.get_descartes()\n",
    "\n",
    "pt = (49.5,2.598076211353316)\n",
    "\n",
    "# Create a new figure with a single axes\n",
    "fig, ax = plt.subplots(figsize=(14, 10))\n",
    "\n",
    "# Create a Polygon patch from the vertices and add it to the axes\n",
    "poly = patches.Polygon(vertices2d, closed=True, edgecolor='red', fill=False)\n",
    "ax.add_patch(poly)\n",
    "\n",
    "# plot the point `pt` as a green dot\n",
    "ax.plot(*pt, marker='o', color='green')\n",
    "\n",
    "# set equal aspect ratio\n",
    "ax.set_aspect('equal')\n",
    "\n",
    "# show the gridlines spaced 1 unit apart\n",
    "ax.grid(True, which=\"both\", ls=\"-\", linewidth=0.5)\n",
    "ax.set_xticks(range(mul_step( int(min(vertex[0] for vertex in vertices2d)) ) - STEP, \n",
    "                    mul_step( int(max(vertex[0] for vertex in vertices2d)) ) + 2*STEP, STEP))\n",
    "ax.set_yticks(range(mul_step( int(min(vertex[1] for vertex in vertices2d)) ) - STEP, \n",
    "                    mul_step( int(max(vertex[1] for vertex in vertices2d)) ) + 2*STEP, STEP))\n",
    "\n",
    "# Show the figure\n",
    "plt.show()\n"
   ]
  },
  {
   "cell_type": "code",
   "execution_count": null,
   "id": "02c1070d",
   "metadata": {},
   "outputs": [],
   "source": []
  }
 ],
 "metadata": {
  "kernelspec": {
   "display_name": "Python 3 (ipykernel)",
   "language": "python",
   "name": "python3"
  },
  "language_info": {
   "codemirror_mode": {
    "name": "ipython",
    "version": 3
   },
   "file_extension": ".py",
   "mimetype": "text/x-python",
   "name": "python",
   "nbconvert_exporter": "python",
   "pygments_lexer": "ipython3",
   "version": "3.9.12"
  }
 },
 "nbformat": 4,
 "nbformat_minor": 5
}

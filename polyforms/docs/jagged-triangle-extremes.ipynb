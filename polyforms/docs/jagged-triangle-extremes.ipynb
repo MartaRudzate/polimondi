{
 "cells": [
  {
   "cell_type": "code",
   "execution_count": null,
   "id": "ffc137e2",
   "metadata": {},
   "outputs": [],
   "source": [
    "set1 = [35, 33, 31, 29, 27, 25, 10, 8, 6, 4, 2]\n",
    "set2 = [34, 32, 23, 21, 19, 17, 15, 13, 11, 9, 7, 5, 3, 1]\n",
    "set3 = [30, 28, 26, 24, 22, 20, 18, 16, 14, 12]\n",
    "\n",
    "print(sum(set1))\n",
    "print(sum(set2))\n",
    "print(sum(set3))\n"
   ]
  },
  {
   "cell_type": "markdown",
   "id": "e14a25fe",
   "metadata": {},
   "source": [
    "**Proposition 5:**  \n",
    "Šajā piemērā vēlamies atrast tās $n$ vērtības, kurām eksistē tādi naturāli $i,j,k$, ka $i > j > k$; $i,k$ ir pāra skaitļi, $j$ ir nepāra skaitlis, un no viņiem var uzbūvēt virknītes kā redzams augšējā piemērā, kur $n=35$, $i = 30$, $j = 23$, $k = 10$."
   ]
  },
  {
   "cell_type": "code",
   "execution_count": null,
   "id": "cb9dbf89",
   "metadata": {},
   "outputs": [],
   "source": [
    "for n in range(27, 40): \n",
    "    if n % 6 not in [3,5]: \n",
    "        continue \n",
    "    the_third = n*(n+1) // 6\n",
    "    for i in range(3,n):\n",
    "        if i % 2 != 0:\n",
    "             continue\n",
    "        for j in range(2,i):\n",
    "            if j % 2 != 1:\n",
    "                continue\n",
    "            for k in range(1,j):\n",
    "                if k % 2 != 0:\n",
    "                    continue                 \n",
    "                countA = ((n - j) // 2) * ((n+j+2) // 2)  + ((2+k) // 2) * (k // 2)\n",
    "                #if n == 35 and i == 30 and j == 23 and k == 10:\n",
    "                #    print(f'the_third = {the_third}, countA = {countA}') \n",
    "                if countA != the_third:\n",
    "                    continue\n",
    "                countE = ((i - k) // 2) * ((i+k+2) // 2)\n",
    "                if countE != the_third:\n",
    "                    continue\n",
    "                print(f'n={n}, ({i},{j},{k})')"
   ]
  },
  {
   "cell_type": "markdown",
   "id": "6443541d",
   "metadata": {},
   "source": [
    "* n=27, (24,19,10)\n",
    "* n=35, (30,23,10)\n",
    "* n=171, (142,103,28)\n",
    "* n=275, (224,159,4)\n",
    "* n=1595, (1486,1167,716)\n",
    "\n",
    "Otrādais trijstūris: \n",
    "* n=9, (8,4,2)\n",
    "* n=2295, (2024,1528,764)\n",
    "* n=2375, (2220,1744,1080)"
   ]
  },
  {
   "cell_type": "code",
   "execution_count": null,
   "id": "f6d9bbb7",
   "metadata": {},
   "outputs": [],
   "source": [
    "quads = [(27,24,19,10), (35,30,23,10)]\n",
    "\n",
    "def get_seq(quad): \n",
    "    s1 = \"\".join([\"AC\"]*quad[0])[:(quad[0] - quad[1])]\n",
    "    s2 = \"\".join([\"EA\"]*quad[0])[:(quad[1] - quad[2])]\n",
    "    s3 = \"\".join([\"CE\"]*quad[0])[:(quad[2] - quad[3])]\n",
    "    s4 = \"\".join([\"AC\"]*quad[0])[:(quad[3])]\n",
    "    return f'{s1}{s2}{s3}{s4}'\n",
    "\n",
    "# pp = ['ACAEAEAECECECECECACACACACAC', 'ACACAEAEAEAECECECECECECECACACACACAC']\n",
    "pp = [get_seq(quad) for quad in quads]\n",
    "poly = [Polyiamond(p) for p in pp]\n",
    "\n",
    "offsets = [(0,0), (-40,0)]\n",
    "\n",
    "scene = DrawScene(Align.BASELINE)\n",
    "for idx,poly in enumerate(poly):\n",
    "    scene.add_polyiamond(f'p{idx}', poly, (offsets[idx]))\n",
    "\n",
    "scene.pack()\n",
    "# scene.show_grid()\n",
    "scene.set_size_in(6,3)\n"
   ]
  },
  {
   "cell_type": "code",
   "execution_count": null,
   "id": "a96f85c8",
   "metadata": {},
   "outputs": [],
   "source": [
    "quads=[(171,142,103,28)]\n",
    "\n",
    "pp = [get_seq(quad) for quad in quads]\n",
    "poly = [Polyiamond(p) for p in pp]\n",
    "\n",
    "offsets = [(0,0), (-40,0)]\n",
    "\n",
    "scene = DrawScene(Align.BASELINE)\n",
    "for idx,poly in enumerate(poly):\n",
    "    scene.add_polyiamond(f'p{idx}', poly, (offsets[idx]))\n",
    "\n",
    "scene.pack()\n",
    "# scene.show_grid()\n",
    "scene.set_size_in(17,8)\n",
    "\n",
    "# quads = [(275,224,159,4)]\n",
    "# This is not valid - it intersects."
   ]
  },
  {
   "cell_type": "code",
   "execution_count": null,
   "id": "c5c4da12",
   "metadata": {},
   "outputs": [],
   "source": [
    "quads = [(1595,1486,1167,716), (2375,1944,1379,144)]\n",
    "pp = [get_seq(quad) for quad in quads]\n",
    "poly = [Polyiamond(p) for p in pp]\n",
    "\n",
    "print([ppoly.get_area() for ppoly in poly])\n",
    "\n",
    "offsets = [(0,0), (-40,0)]\n",
    "\n",
    "scene = DrawScene(Align.BASELINE)\n",
    "for idx,poly in enumerate(poly):\n",
    "    scene.add_polyiamond(f'p{idx}', poly, (offsets[idx]))\n",
    "\n",
    "scene.pack()\n",
    "# scene.show_grid()\n",
    "scene.set_size_in(17,8)"
   ]
  },
  {
   "cell_type": "code",
   "execution_count": null,
   "id": "9d00490c",
   "metadata": {},
   "outputs": [],
   "source": [
    "pp = ['ACACACECECECEAEAECEAEAEAEAEACACAC', 'ACACECECECEAECEAEAEAEAEACACACACACACACAC', 'ACACACACACECECECECECECEAEAEAEAEAEAEAECEAEAEAEAEACACACACAC']\n",
    "\n",
    "poly = [Polyiamond(p) for p in pp]\n",
    "\n",
    "offsets = [(0,0), (20,30), (-50,-100)]\n",
    "\n",
    "scene = DrawScene(Align.BASELINE)\n",
    "for idx,poly in enumerate(poly):\n",
    "    scene.add_polyiamond(f'p{idx}', poly, (offsets[idx]))\n",
    "\n",
    "scene.pack()\n",
    "scene.set_size_in(13,6)\n",
    "print([len(p) for p in pp])"
   ]
  },
  {
   "cell_type": "code",
   "execution_count": null,
   "id": "94c128ee",
   "metadata": {},
   "outputs": [],
   "source": [
    "# quads = [(9,8,4,2), (2295,2024,1528,764), (2375,2220,1744,1080)]\n",
    "quads = [(2295,2024,1528,764), (2375,2220,1744,1080)]\n",
    "def get_seq2(quad): \n",
    "    s1 = \"\".join([\"AC\"]*quad[0])[:(quad[0] - quad[1])]\n",
    "    s2 = \"\".join([\"CE\"]*quad[0])[:(quad[1] - quad[2])]\n",
    "    s3 = \"\".join([\"AE\"]*quad[0])[:(quad[2] - quad[3])]\n",
    "    s4 = \"\".join([\"AC\"]*quad[0])[:(quad[3])]\n",
    "    return f'{s1}{s2}{s3}{s4}'\n",
    "\n",
    "\n",
    "pp = [get_seq2(quad) for quad in quads]\n",
    "poly = [Polyiamond(p) for p in pp]\n",
    "print([ppoly.get_area() for ppoly in poly])\n",
    "\n",
    "offsets = [(0,0), (0,0), (0,0)]\n",
    "\n",
    "scene = DrawScene(Align.BASELINE)\n",
    "for idx,poly in enumerate(poly):\n",
    "    scene.add_polyiamond(f'p{idx}', poly, (offsets[idx]))\n",
    "\n",
    "scene.pack()\n",
    "# scene.show_grid()\n",
    "scene.set_size_in(17,8)"
   ]
  },
  {
   "cell_type": "code",
   "execution_count": null,
   "id": "9b929cbb",
   "metadata": {},
   "outputs": [],
   "source": [
    "import math\n",
    "S_up = 220590198792\n",
    "S_down = 221002866792\n",
    "n = 2375\n",
    "P = sum(range(1,n+1))\n",
    "a = (P/2)/3\n",
    "S_est = a*a\n",
    "print(S_est)\n"
   ]
  },
  {
   "cell_type": "code",
   "execution_count": null,
   "id": "e47ab007",
   "metadata": {},
   "outputs": [],
   "source": [
    "221135062500.0/221002866792"
   ]
  },
  {
   "cell_type": "code",
   "execution_count": null,
   "id": "4fb6cc75",
   "metadata": {},
   "outputs": [],
   "source": []
  }
 ],
 "metadata": {
  "kernelspec": {
   "display_name": "Python 3 (ipykernel)",
   "language": "python",
   "name": "python3"
  },
  "language_info": {
   "codemirror_mode": {
    "name": "ipython",
    "version": 3
   },
   "file_extension": ".py",
   "mimetype": "text/x-python",
   "name": "python",
   "nbconvert_exporter": "python",
   "pygments_lexer": "ipython3",
   "version": "3.9.12"
  }
 },
 "nbformat": 4,
 "nbformat_minor": 5
}
